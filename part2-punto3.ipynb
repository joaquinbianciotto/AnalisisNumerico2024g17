{
 "cells": [
  {
   "cell_type": "code",
   "execution_count": 87,
   "metadata": {},
   "outputs": [],
   "source": [
    "import numpy as np\n",
    "from sympy import *\n",
    "#resuelva el siguiente sistema no homogéneos por el método de variación de parámetros.\n",
    "t = symbols('t')\n",
    "s = symbols('s')\n",
    "x= symbols('x', cls=Function)\n",
    "y = symbols('y', cls=Function)\n",
    "X, Y = symbols('X Y', cls = Function)\n",
    "c1, c2 = symbols('c1 c2')"
   ]
  },
  {
   "cell_type": "code",
   "execution_count": 88,
   "metadata": {},
   "outputs": [],
   "source": [
    "coeficientes = Matrix([[1, 6], [-1, 6]])\n",
    "resultador = Matrix([exp(t), 0])\n",
    "condicionesIniciales = {x(0):1,y(0):1}"
   ]
  },
  {
   "cell_type": "code",
   "execution_count": 89,
   "metadata": {},
   "outputs": [
    {
     "data": {
      "text/latex": [
       "$\\displaystyle \\frac{d}{d t} x{\\left(t \\right)} = x{\\left(t \\right)} + 6 y{\\left(t \\right)} + e^{t}$"
      ],
      "text/plain": [
       "Eq(Derivative(x(t), t), x(t) + 6*y(t) + exp(t))"
      ]
     },
     "metadata": {},
     "output_type": "display_data"
    },
    {
     "data": {
      "text/latex": [
       "$\\displaystyle \\frac{d}{d t} y{\\left(t \\right)} = - x{\\left(t \\right)} + 6 y{\\left(t \\right)}$"
      ],
      "text/plain": [
       "Eq(Derivative(y(t), t), -x(t) + 6*y(t))"
      ]
     },
     "metadata": {},
     "output_type": "display_data"
    }
   ],
   "source": [
    "eqx = Eq(x(t).diff(t),x(t)+6*y(t)+exp(t))\n",
    "eqy= Eq(y(t).diff(t),-x(t)+6*y(t)+0)\n",
    "display(eqx,eqy)"
   ]
  },
  {
   "cell_type": "code",
   "execution_count": 90,
   "metadata": {},
   "outputs": [],
   "source": [
    "laplaceX = Eq(laplace_transform(eqx.lhs,t,s,noconds=True),laplace_transform(eqx.rhs,t,s,noconds=True))\n",
    "laplaceY = Eq(laplace_transform(eqy.lhs,t,s,noconds=True),laplace_transform(eqy.rhs,t,s,noconds=True))\n",
    "laplaceY = laplaceY.subs(condicionesIniciales)\n",
    "laplaceX = laplaceX.subs(condicionesIniciales)\n"
   ]
  },
  {
   "cell_type": "code",
   "execution_count": 91,
   "metadata": {},
   "outputs": [],
   "source": [
    "laplaceX = laplaceX.subs({laplace_transform(x(t),t,s,noconds=True): X(s),laplace_transform(y(t),t,s,noconds=True): Y(s)})\n",
    "laplaceY = laplaceY.subs({laplace_transform(x(t),t,s,noconds=True): X(s),laplace_transform(y(t),t,s,noconds=True): Y(s)})"
   ]
  },
  {
   "cell_type": "code",
   "execution_count": 92,
   "metadata": {},
   "outputs": [
    {
     "data": {
      "text/latex": [
       "$\\displaystyle s X{\\left(s \\right)} - 1 = X{\\left(s \\right)} + 6 Y{\\left(s \\right)} + \\frac{1}{s - 1}$"
      ],
      "text/plain": [
       "Eq(s*X(s) - 1, X(s) + 6*Y(s) + 1/(s - 1))"
      ]
     },
     "metadata": {},
     "output_type": "display_data"
    },
    {
     "data": {
      "text/latex": [
       "$\\displaystyle s Y{\\left(s \\right)} - 1 = - X{\\left(s \\right)} + 6 Y{\\left(s \\right)}$"
      ],
      "text/plain": [
       "Eq(s*Y(s) - 1, -X(s) + 6*Y(s))"
      ]
     },
     "metadata": {},
     "output_type": "display_data"
    }
   ],
   "source": [
    "sistema = (laplaceX,laplaceY)\n",
    "display(sistema[0],sistema[1])"
   ]
  },
  {
   "cell_type": "code",
   "execution_count": 93,
   "metadata": {},
   "outputs": [],
   "source": [
    "solucion = solve(sistema, [X(s), Y(s)])\n"
   ]
  },
  {
   "cell_type": "code",
   "execution_count": 95,
   "metadata": {},
   "outputs": [
    {
     "data": {
      "text/latex": [
       "$\\displaystyle \\frac{s^{2} - 6}{s^{3} - 8 s^{2} + 19 s - 12}$"
      ],
      "text/plain": [
       "(s**2 - 6)/(s**3 - 8*s**2 + 19*s - 12)"
      ]
     },
     "metadata": {},
     "output_type": "display_data"
    },
    {
     "data": {
      "text/latex": [
       "$\\displaystyle \\frac{s^{2} - 3 s + 1}{s^{3} - 8 s^{2} + 19 s - 12}$"
      ],
      "text/plain": [
       "(s**2 - 3*s + 1)/(s**3 - 8*s**2 + 19*s - 12)"
      ]
     },
     "metadata": {},
     "output_type": "display_data"
    }
   ],
   "source": [
    "display(solucion[X(s)],solucion[Y(s)])  "
   ]
  }
 ],
 "metadata": {
  "kernelspec": {
   "display_name": "Python 3",
   "language": "python",
   "name": "python3"
  },
  "language_info": {
   "codemirror_mode": {
    "name": "ipython",
    "version": 3
   },
   "file_extension": ".py",
   "mimetype": "text/x-python",
   "name": "python",
   "nbconvert_exporter": "python",
   "pygments_lexer": "ipython3",
   "version": "3.10.12"
  }
 },
 "nbformat": 4,
 "nbformat_minor": 2
}
