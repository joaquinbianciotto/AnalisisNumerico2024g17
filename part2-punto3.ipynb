{
 "cells": [
  {
   "cell_type": "code",
   "execution_count": 1,
   "metadata": {},
   "outputs": [],
   "source": [
    "import numpy as np\n",
    "from sympy import *\n",
    "#resuelva el siguiente sistema no homogéneos por el método de variación de parámetros.\n",
    "t = symbols('t')\n",
    "s = symbols('s')\n",
    "x= symbols('x', cls=Function)\n",
    "y = symbols('y', cls=Function)\n",
    "X, Y = symbols('X Y', cls = Function)\n",
    "c1, c2 = symbols('c1 c2')"
   ]
  },
  {
   "cell_type": "code",
   "execution_count": 2,
   "metadata": {},
   "outputs": [],
   "source": [
    "coeficientes = Matrix([[1, 6], [-1, 6]])\n",
    "resultador = Matrix([exp(t), 0])\n",
    "condicionesIniciales = {x(0):1,y(0):1}"
   ]
  },
  {
   "cell_type": "code",
   "execution_count": 3,
   "metadata": {},
   "outputs": [
    {
     "data": {
      "text/latex": [
       "$\\displaystyle \\frac{d}{d t} x{\\left(t \\right)} = x{\\left(t \\right)} + 6 y{\\left(t \\right)} + e^{t}$"
      ],
      "text/plain": [
       "Eq(Derivative(x(t), t), x(t) + 6*y(t) + exp(t))"
      ]
     },
     "metadata": {},
     "output_type": "display_data"
    },
    {
     "data": {
      "text/latex": [
       "$\\displaystyle \\frac{d}{d t} y{\\left(t \\right)} = - x{\\left(t \\right)} + 6 y{\\left(t \\right)}$"
      ],
      "text/plain": [
       "Eq(Derivative(y(t), t), -x(t) + 6*y(t))"
      ]
     },
     "metadata": {},
     "output_type": "display_data"
    }
   ],
   "source": [
    "eqx = Eq(x(t).diff(t),x(t)+6*y(t)+exp(t))\n",
    "eqy= Eq(y(t).diff(t),-x(t)+6*y(t)+0)\n",
    "display(eqx,eqy)"
   ]
  },
  {
   "cell_type": "code",
   "execution_count": 4,
   "metadata": {},
   "outputs": [],
   "source": [
    "laplaceX = Eq(laplace_transform(eqx.lhs,t,s,noconds=True),laplace_transform(eqx.rhs,t,s,noconds=True))\n",
    "laplaceY = Eq(laplace_transform(eqy.lhs,t,s,noconds=True),laplace_transform(eqy.rhs,t,s,noconds=True))\n",
    "laplaceY = laplaceY.subs(condicionesIniciales)\n",
    "laplaceX = laplaceX.subs(condicionesIniciales)\n"
   ]
  },
  {
   "cell_type": "code",
   "execution_count": 5,
   "metadata": {},
   "outputs": [],
   "source": [
    "laplaceX = laplaceX.subs({laplace_transform(x(t),t,s,noconds=True): X(s),laplace_transform(y(t),t,s,noconds=True): Y(s)})\n",
    "laplaceY = laplaceY.subs({laplace_transform(x(t),t,s,noconds=True): X(s),laplace_transform(y(t),t,s,noconds=True): Y(s)})"
   ]
  },
  {
   "cell_type": "code",
   "execution_count": 6,
   "metadata": {},
   "outputs": [
    {
     "data": {
      "text/latex": [
       "$\\displaystyle s X{\\left(s \\right)} - 1 = X{\\left(s \\right)} + 6 Y{\\left(s \\right)} + \\frac{1}{s - 1}$"
      ],
      "text/plain": [
       "Eq(s*X(s) - 1, X(s) + 6*Y(s) + 1/(s - 1))"
      ]
     },
     "metadata": {},
     "output_type": "display_data"
    },
    {
     "data": {
      "text/latex": [
       "$\\displaystyle s Y{\\left(s \\right)} - 1 = - X{\\left(s \\right)} + 6 Y{\\left(s \\right)}$"
      ],
      "text/plain": [
       "Eq(s*Y(s) - 1, -X(s) + 6*Y(s))"
      ]
     },
     "metadata": {},
     "output_type": "display_data"
    }
   ],
   "source": [
    "sistema = (laplaceX,laplaceY)\n",
    "display(sistema[0],sistema[1])"
   ]
  },
  {
   "cell_type": "code",
   "execution_count": 7,
   "metadata": {},
   "outputs": [],
   "source": [
    "solucion = solve(sistema, [X(s), Y(s)])\n"
   ]
  },
  {
   "cell_type": "code",
   "execution_count": 8,
   "metadata": {},
   "outputs": [
    {
     "data": {
      "text/latex": [
       "$\\displaystyle \\frac{s^{2} - 6}{s^{3} - 8 s^{2} + 19 s - 12}$"
      ],
      "text/plain": [
       "(s**2 - 6)/(s**3 - 8*s**2 + 19*s - 12)"
      ]
     },
     "metadata": {},
     "output_type": "display_data"
    },
    {
     "data": {
      "text/latex": [
       "$\\displaystyle \\frac{s^{2} - 3 s + 1}{s^{3} - 8 s^{2} + 19 s - 12}$"
      ],
      "text/plain": [
       "(s**2 - 3*s + 1)/(s**3 - 8*s**2 + 19*s - 12)"
      ]
     },
     "metadata": {},
     "output_type": "display_data"
    }
   ],
   "source": [
    "display(solucion[X(s)],solucion[Y(s)])  "
   ]
  },
  {
   "cell_type": "code",
   "execution_count": 9,
   "metadata": {},
   "outputs": [
    {
     "data": {
      "text/latex": [
       "$\\displaystyle - \\frac{5}{6 \\left(s - 1\\right)} - \\frac{3}{2 \\left(s - 3\\right)} + \\frac{10}{3 \\left(s - 4\\right)}$"
      ],
      "text/plain": [
       "-5/(6*(s - 1)) - 3/(2*(s - 3)) + 10/(3*(s - 4))"
      ]
     },
     "metadata": {},
     "output_type": "display_data"
    },
    {
     "data": {
      "text/latex": [
       "$\\displaystyle - \\frac{1}{6 \\left(s - 1\\right)} - \\frac{1}{2 \\left(s - 3\\right)} + \\frac{5}{3 \\left(s - 4\\right)}$"
      ],
      "text/plain": [
       "-1/(6*(s - 1)) - 1/(2*(s - 3)) + 5/(3*(s - 4))"
      ]
     },
     "metadata": {},
     "output_type": "display_data"
    }
   ],
   "source": [
    "#para facilitar el calculo de la inversa de laplace, utililizaremos las fracciones parciales\n",
    "solucion[X(s)] = apart(solucion[X(s)],s)\n",
    "solucion[Y(s)] = apart(solucion[Y(s)],s)\n",
    "display(solucion[X(s)],solucion[Y(s)])"
   ]
  },
  {
   "cell_type": "code",
   "execution_count": 10,
   "metadata": {},
   "outputs": [
    {
     "data": {
      "text/latex": [
       "$\\displaystyle \\frac{10 e^{4 t} \\theta\\left(t\\right)}{3} - \\frac{3 e^{3 t} \\theta\\left(t\\right)}{2} - \\frac{5 e^{t} \\theta\\left(t\\right)}{6}$"
      ],
      "text/plain": [
       "10*exp(4*t)*Heaviside(t)/3 - 3*exp(3*t)*Heaviside(t)/2 - 5*exp(t)*Heaviside(t)/6"
      ]
     },
     "metadata": {},
     "output_type": "display_data"
    },
    {
     "data": {
      "text/latex": [
       "$\\displaystyle \\frac{5 e^{4 t} \\theta\\left(t\\right)}{3} - \\frac{e^{3 t} \\theta\\left(t\\right)}{2} - \\frac{e^{t} \\theta\\left(t\\right)}{6}$"
      ],
      "text/plain": [
       "5*exp(4*t)*Heaviside(t)/3 - exp(3*t)*Heaviside(t)/2 - exp(t)*Heaviside(t)/6"
      ]
     },
     "metadata": {},
     "output_type": "display_data"
    }
   ],
   "source": [
    "#calculamos la inversa de laplace\n",
    "solucion[X(s)] = inverse_laplace_transform(solucion[X(s)],s,t,conds=None)\n",
    "solucion[Y(s)] = inverse_laplace_transform(solucion[Y(s)],s,t,conds=None)\n",
    "display(solucion[X(s)],solucion[Y(s)])"
   ]
  },
  {
   "cell_type": "code",
   "execution_count": 11,
   "metadata": {},
   "outputs": [
    {
     "data": {
      "image/png": "[encoded data removed]",
      "text/plain": [
       "<Figure size 640x480 with 1 Axes>"
      ]
     },
     "metadata": {},
     "output_type": "display_data"
    },
    {
     "data": {
      "text/plain": [
       "<sympy.plotting.backends.matplotlibbackend.matplotlib.MatplotlibBackend at 0x2dce84642f0>"
      ]
     },
     "execution_count": 11,
     "metadata": {},
     "output_type": "execute_result"
    }
   ],
   "source": [
    "#graficamos la solución\n",
    "plot(solucion[X(s)],solucion[Y(s)],(t,0,5), title = 'Solución del sistema de ecuaciones diferenciales', xlabel = 't', ylabel = 'x(t), y(t)')"
   ]
  }
 ],
 "metadata": {
  "kernelspec": {
   "display_name": "Python 3",
   "language": "python",
   "name": "python3"
  },
  "language_info": {
   "codemirror_mode": {
    "name": "ipython",
    "version": 3
   },
   "file_extension": ".py",
   "mimetype": "text/x-python",
   "name": "python",
   "nbconvert_exporter": "python",
   "pygments_lexer": "ipython3",
   "version": "3.12.0"
  }
 },
 "nbformat": 4,
 "nbformat_minor": 2
}
