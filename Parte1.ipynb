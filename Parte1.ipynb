{
 "cells": [
  {
   "cell_type": "markdown",
   "metadata": {},
   "source": [
    "# DIAGRAMAS DE LOS ALGORTIMOS DE RESOLUCION DE LOS SISTMEAS DE ECUACIONES:"
   ]
  },
  {
   "cell_type": "markdown",
   "metadata": {
    "vscode": {
     "languageId": "plaintext"
    }
   },
   "source": [
    "# Resolución de Sistemas de Ecuaciones Diferenciales Homogéneos\n",
    "\n",
    "1. **Formulación del sistema**: Escribir el sistema de ecuaciones diferenciales homogéneas.\n",
    "2. **Encontrar la matriz de coeficientes**: Extraer la matriz de coeficientes del sistema.\n",
    "3. **Calcular los valores propios**: Determinar los valores propios de la matriz de coeficientes.\n",
    "4. **Calcular los vectores propios**: Determinar los vectores propios correspondientes a cada valor propio.\n",
    "5. **Formar la solución general**: Combinar los vectores propios y los exponentes de los valores propios para formar la solución general."
   ]
  },
  {
   "cell_type": "markdown",
   "metadata": {},
   "source": [
    "# Resolución de Sistemas de Ecuaciones Diferenciales No Homogéneos aplicando Laplace\n",
    "\n",
    "1. **Formulación del sistema**: Escribir el sistema de ecuaciones diferenciales no homogéneas.\n",
    "2. **Aplicar la Transformada de Laplace**: Aplicar la transformada de Laplace a cada ecuación del sistema.\n",
    "3. **Resolver el sistema algebraico**: Resolver el sistema de ecuaciones algebraicas resultante.\n",
    "4. **Aplicar la Transformada Inversa de Laplace**: Aplicar la transformada inversa de Laplace para encontrar la solución en el dominio del tiempo."
   ]
  },
  {
   "cell_type": "markdown",
   "metadata": {},
   "source": [
    "# Resolución de Sistemas de Ecuaciones Diferenciales No Homogéneos aplicando variación de parámetros\n"
   ]
  }
 ],
 "metadata": {
  "language_info": {
   "name": "python"
  }
 },
 "nbformat": 4,
 "nbformat_minor": 2
}
