{
 "cells": [
  {
   "cell_type": "code",
   "execution_count": 53,
   "metadata": {},
   "outputs": [],
   "source": [
    "import sympy as sp\n",
    "import numpy as np\n",
    "import matplotlib.pyplot as plt\n",
    "x = sympy.symbols('x')"
   ]
  },
  {
   "cell_type": "markdown",
   "metadata": {},
   "source": [
    "**METODOS DE DERIVACIONES**"
   ]
  },
  {
   "cell_type": "markdown",
   "metadata": {},
   "source": [
    "*Derivacion finita hacia adelante*"
   ]
  },
  {
   "cell_type": "code",
   "execution_count": null,
   "metadata": {},
   "outputs": [],
   "source": [
    "def DifAdelante(funcion, paso, a, valorReal):\n",
    "    tabla = []\n",
    "    for i in range(3):  # Ajustar el rango para que comience desde 0\n",
    "        tabla.append(funcion.subs(x, a + i * paso))\n",
    "\n",
    "    Dif1 = (tabla[1] - tabla[0]) / paso\n",
    "    Error1R = (valorReal - tabla[1]) / valorReal\n",
    "    Dif2 = (-tabla[2] + 4 * tabla[1] - 3 * tabla[0]) / (2 * paso)\n",
    "    Error2R = (valorReal - tabla[2]) / valorReal\n",
    "    \n",
    "    print('Diferencia 1 hacia adelante: ', Dif1)\n",
    "    print('Error relativo de la 1 diferencia: ', Error1R, ' y porcentual: ', Error1R * 100, '%')\n",
    "    print('Diferencia 2 hacia adelante: ', Dif2)\n",
    "    print('Error relativo de la 2 diferencia: ', Error2R, ' y porcentual: ', Error2R * 100, '%')\n",
    "    \n",
    "    graficar_errores([Error1R, Error2R], ['Error 1', 'Error 2'])\n",
    "    \n",
    "    "
   ]
  },
  {
   "cell_type": "markdown",
   "metadata": {},
   "source": [
    "**GRAFICA DE ERRORES**"
   ]
  },
  {
   "cell_type": "code",
   "execution_count": 46,
   "metadata": {},
   "outputs": [],
   "source": [
    "\n",
    "\n",
    "def graficar_errores(errores, etiquetas=None, titulo=\"Gráfica de Error Relativo\"):\n",
    "    \"\"\"\n",
    "    Función para graficar una lista de errores relativos.\n",
    "    \n",
    "    :param errores: Lista de errores relativos.\n",
    "    :param etiquetas: Lista de etiquetas para los puntos (opcional).\n",
    "    :param titulo: Título de la gráfica (opcional).\n",
    "    \"\"\"\n",
    "    if etiquetas is None:\n",
    "        etiquetas = [f\"Punto {i+1}\" for i in range(len(errores))]\n",
    "    \n",
    "    plt.figure(figsize=(10, 6))\n",
    "    plt.plot(errores, marker='o', linestyle='-', label=\"Error relativo\")\n",
    "    plt.xticks(range(len(errores)), etiquetas, rotation=45)\n",
    "    plt.xlabel(\"Puntos\")\n",
    "    plt.ylabel(\"Error relativo\")\n",
    "    plt.title(titulo)\n",
    "    plt.grid(True, linestyle='--', alpha=0.7)\n",
    "    plt.legend()\n",
    "    plt.tight_layout()\n",
    "    plt.show()\n",
    "\n"
   ]
  },
  {
   "cell_type": "code",
   "execution_count": 54,
   "metadata": {},
   "outputs": [
    {
     "name": "stdout",
     "output_type": "stream",
     "text": [
      "Diferencia 1 hacia adelante:  0.484636737549439\n",
      "Error relativo de la 1 diferencia:  0.403072652490112  y porcentual:  40.3072652490112 %\n",
      "Diferencia 2 hacia adelante:  0.504721084870813\n",
      "Error relativo de la 2 diferencia:  0.314179043908774  y porcentual:  31.4179043908774 %\n"
     ]
    },
    {
     "data": {
      "text/plain": [
       "(0.403072652490112, 0.314179043908774)"
      ]
     },
     "execution_count": 54,
     "metadata": {},
     "output_type": "execute_result"
    }
   ],
   "source": [
    "funcion = (((3*x-1)/(x**2+3))**2)\n",
    "h =  0.1\n",
    "\n",
    "ValorReal = 1/2\n",
    "\n",
    "DifAdelante(funcion,h,1,ValorReal)\n"
   ]
  },
  {
   "cell_type": "code",
   "execution_count": null,
   "metadata": {},
   "outputs": [],
   "source": []
  },
  {
   "cell_type": "code",
   "execution_count": null,
   "metadata": {},
   "outputs": [],
   "source": []
  }
 ],
 "metadata": {
  "kernelspec": {
   "display_name": "Python 3",
   "language": "python",
   "name": "python3"
  },
  "language_info": {
   "codemirror_mode": {
    "name": "ipython",
    "version": 3
   },
   "file_extension": ".py",
   "mimetype": "text/x-python",
   "name": "python",
   "nbconvert_exporter": "python",
   "pygments_lexer": "ipython3",
   "version": "3.12.2"
  }
 },
 "nbformat": 4,
 "nbformat_minor": 2
}
