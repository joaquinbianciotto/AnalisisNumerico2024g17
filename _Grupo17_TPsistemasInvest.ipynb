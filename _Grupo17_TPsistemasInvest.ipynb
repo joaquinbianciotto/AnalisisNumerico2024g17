{
 "cells": [
  {
   "cell_type": "code",
   "execution_count": 1,
   "metadata": {
    "editable": true,
    "slideshow": {
     "slide_type": ""
    },
    "tags": [],
    "trusted": true
   },
   "outputs": [
    {
     "name": "stdout",
     "output_type": "stream",
     "text": [
      "muy bom día\n"
     ]
    }
   ],
   "source": [
    "print (\"muy bom día\")"
   ]
  },
  {
   "cell_type": "markdown",
   "metadata": {},
   "source": [
    "**Ahora si funca esta cosa** y si pongo así tambien*funca ven*"
   ]
  },
  {
   "cell_type": "markdown",
   "metadata": {},
   "source": [
    "#  Parte 1: Librerias de Python en el Cálculo Numérico y Simbólico"
   ]
  },
  {
   "cell_type": "markdown",
   "metadata": {},
   "source": [
    "## Librería NumPy"
   ]
  },
  {
   "cell_type": "markdown",
   "metadata": {},
   "source": [
    "**NumPy** es una librería de Python especializada en el cálculo numérico y el análisis de datos.\n",
    "\n",
    "Incorpora una nueva clase de objetos llamados *arrays* que permite representar colecciones de datos de un mismo tipo en varias dimensiones, y funciones muy eficientes para su manipulación, así como también funciones para trabajar en dominio del álgebra lineal y transformada de Fourier.\n",
    "\n",
    "La ventaja de Numpy frente a las listas predefinidas en Python es que el procesamiento de los arrays se realiza mucho más rápido (hasta 50 veces más) que las listas, lo cual la hace ideal para el procesamiento de vectores y matrices de grandes dimensiones. Esto debido a que las matrices **NumPy** se almacenan en un lugar continuo en la memoria, a diferencia de las listas predefinidas, por lo que los procesos pueden acceder a ellas y manipularlas de manera muy eficiente. Este comportamiento se llama localidad de referencia en informática."
   ]
  },
  {
   "cell_type": "markdown",
   "metadata": {},
   "source": [
    "Para crear un array se utiliza la siguiente función de NumPy\n",
    "\n",
    "**np.array(lista) :** Crea un array a partir de la lista o tupla lista y devuelve una referencia a él. El número de dimensiones del array dependerá de las listas o tuplas anidadas en lista:\n",
    "- Para una lista de valores se crea un array de una dimensión, también conocido como vector.\n",
    "- Para una lista de listas de valores se crea un array de dos dimensiones, también conocido como matriz.\n",
    "- Para una lista de listas de listas de valores se crea un array de tres dimensiones, también conocido como cubo."
   ]
  },
  {
   "cell_type": "code",
   "execution_count": 8,
   "metadata": {
    "trusted": true
   },
   "outputs": [
    {
     "name": "stdout",
     "output_type": "stream",
     "text": [
      "1 dimension\n",
      "[1 2 3]\n",
      "2 dimension\n",
      "[[1 2 3]\n",
      " [4 5 6]]\n",
      "3 dimension\n",
      "[[[ 1  2  3]\n",
      "  [ 4  5  6]]\n",
      "\n",
      " [[ 7  8  9]\n",
      "  [10 11 12]]]\n"
     ]
    }
   ],
   "source": [
    "# Array de una dimensión\n",
    ">>> a1 = np.array([1, 2, 3])\n",
    ">>> print(\"1 dimension\")\n",
    ">>> print(a1)\n",
    "\n",
    ">>> # Array de dos dimensiones\n",
    ">>> a2 = np.array([[1, 2, 3], [4, 5, 6]])\n",
    ">>> print(\"2 dimension\")\n",
    ">>> print(a2)\n",
    "\n",
    ">>> # Array de tres dimensiones\n",
    ">>> a3 = np.array([[[1, 2, 3], [4, 5, 6]], [[7, 8, 9], [10, 11, 12]]])\n",
    ">>> print(\"3 dimension\")\n",
    ">>> print (a3)\n"
   ]
  },
  {
   "cell_type": "markdown",
   "metadata": {},
   "source": [
    "##### Multiplicación de matrices"
   ]
  },
  {
   "cell_type": "markdown",
   "metadata": {},
   "source": [
    "La multiplicación se realiza utilizando la funcion **dot(m,n)** donde m y n son los arreglos que se desean multiplicar."
   ]
  },
  {
   "cell_type": "code",
   "execution_count": 14,
   "metadata": {
    "trusted": true
   },
   "outputs": [
    {
     "name": "stdout",
     "output_type": "stream",
     "text": [
      "El resultado es:\n",
      "[[ 7 10 13]\n",
      " [15 22 29]\n",
      " [23 34 45]]\n"
     ]
    }
   ],
   "source": [
    ">>> import numpy as np\n",
    ">>> A=np.array([[1,2],[3,4],[5,6]])\n",
    ">>> B=np.array([[1,2,3],[3,4,5]])\n",
    ">>> print(\"El resultado es:\")\n",
    ">>> print(np.dot(A,B))"
   ]
  },
  {
   "cell_type": "markdown",
   "metadata": {},
   "source": [
    "##### Cálculo de la inversa de una matriz"
   ]
  },
  {
   "cell_type": "markdown",
   "metadata": {},
   "source": [
    "La inversa de una matriz se calcula con la funcion **inv(a)** que devuelve la matriz inversa de la matriz cuadrada a."
   ]
  },
  {
   "cell_type": "code",
   "execution_count": 12,
   "metadata": {
    "trusted": true
   },
   "outputs": [
    {
     "name": "stdout",
     "output_type": "stream",
     "text": [
      "[[-2.   1. ]\n",
      " [ 1.5 -0.5]]\n"
     ]
    }
   ],
   "source": [
    ">>> import numpy as np\n",
    ">>> a = np.array([[1, 2], [3, 4]])\n",
    ">>> print(np.linalg.inv(a))"
   ]
  },
  {
   "cell_type": "markdown",
   "metadata": {},
   "source": [
    "##### Cálculo de valores propios"
   ]
  },
  {
   "cell_type": "markdown",
   "metadata": {},
   "source": [
    "¿Cuáles son los valores propios? Son números escalares que permiten calcular los vectores propios de una matriz. Para calcularlos se utiliza la función **linalg.eigvals()**"
   ]
  },
  {
   "cell_type": "code",
   "execution_count": 15,
   "metadata": {
    "trusted": true
   },
   "outputs": [
    {
     "data": {
      "text/plain": [
       "array([3.41421356, 0.58578644])"
      ]
     },
     "execution_count": 15,
     "metadata": {},
     "output_type": "execute_result"
    }
   ],
   "source": [
    ">>> import numpy as np\n",
    ">>> matrix = np.array([[3,1],[1,1]])\n",
    ">>> np.linalg.eigvals(matrix)"
   ]
  },
  {
   "cell_type": "markdown",
   "metadata": {},
   "source": [
    "##### Cálculo de vectores propios de una matriz"
   ]
  },
  {
   "cell_type": "markdown",
   "metadata": {},
   "source": [
    "Los autovectores de una matriz cuadrada se calculan con la siguiente función: **linalg.eig(a)** que devuelve los autovalores y los autovectores asociados de la matriz cuadrada a."
   ]
  },
  {
   "cell_type": "code",
   "execution_count": 18,
   "metadata": {
    "trusted": true
   },
   "outputs": [
    {
     "data": {
      "text/plain": [
       "array([[ 0.92387953, -0.38268343],\n",
       "       [ 0.38268343,  0.92387953]])"
      ]
     },
     "execution_count": 18,
     "metadata": {},
     "output_type": "execute_result"
    }
   ],
   "source": [
    ">>> import numpy as np\n",
    ">>> a = np.array([[3,1],[1,1]])\n",
    ">>> autovalores,autovectore = (np.linalg.eig(a))\n",
    ">>> autovectore"
   ]
  },
  {
   "cell_type": "markdown",
   "metadata": {},
   "source": [
    "##### Resolver Sistenma de Ecuaciones"
   ]
  },
  {
   "cell_type": "markdown",
   "metadata": {},
   "source": [
    "Para resolver un sistema de ecuaciones lineales se utiliza la función siguiente:\n",
    "**linalg.solve(a, b)** La misma devuelve la solución del sistema de ecuaciones lineales con los coeficientes de la matriz a y los términos independientes de la matriz b."
   ]
  },
  {
   "cell_type": "code",
   "execution_count": 21,
   "metadata": {
    "trusted": true
   },
   "outputs": [
    {
     "name": "stdout",
     "output_type": "stream",
     "text": [
      "[-1.  1.]\n"
     ]
    }
   ],
   "source": [
    ">>> import numpy as np\n",
    "# Sistema de dos ecuaciones y dos incógnitas\n",
    "# x + 2y = 1\n",
    "# 3x + 5y = 2 \n",
    ">>> a = np.array([[1, 2], [3, 5]])\n",
    ">>> b = np.array([1, 2])\n",
    ">>> print(np.linalg.solve(a, b))"
   ]
  },
  {
   "cell_type": "markdown",
   "metadata": {},
   "source": [
    "## Librería SymPy"
   ]
  },
  {
   "cell_type": "markdown",
   "metadata": {},
   "source": [
    "SymPy es una biblioteca de Python para matemáticas simbólicas. Su propósito es llegar a ser un sistema de álgebra por computadora (CAS) completo manteniendo el código tan simple como sea posible para poder ser legible y extensible de manera fácil.\n",
    "La creación de un símbolo «x» que represente un valor desconocido se efectúa con el comando **«x = sp.symbol(«x»)»**. Es posible crear varios símbolos, como **«x»** e **«y»**, en función del número de incógnitas. Estos símbolos se pueden sumar, restar, multiplicar y dividir a voluntad.\n"
   ]
  },
  {
   "cell_type": "markdown",
   "metadata": {},
   "source": [
    "**EDO**: "
   ]
  },
  {
   "cell_type": "code",
   "execution_count": 14,
   "metadata": {
    "trusted": true
   },
   "outputs": [
    {
     "name": "stdout",
     "output_type": "stream",
     "text": [
      "Eq(y(x), C1*exp(x))\n"
     ]
    }
   ],
   "source": [
    "# Importar SymPy\n",
    "import sympy as sp\n",
    "\n",
    "# Definir la variable independiente y la función dependiente\n",
    "x = sp.symbols('x')\n",
    "y = sp.Function('y')(x)\n",
    "\n",
    "# Definir la ecuación diferencial\n",
    "ode = sp.Eq(y.diff(x), y)\n",
    "\n",
    "# Resolver la ecuación diferencial\n",
    "solution = sp.dsolve(ode)\n",
    "print(solution)\n"
   ]
  },
  {
   "cell_type": "markdown",
   "metadata": {},
   "source": [
    "Donde:\n",
    "- Eq es una función que crea una ecuación.\n",
    "- y(x) es la función dependiente.\n",
    "- C1*exp(x) es la solución general en términos de la constante arbitraria C1."
   ]
  },
  {
   "cell_type": "code",
   "execution_count": 16,
   "metadata": {
    "trusted": true
   },
   "outputs": [
    {
     "name": "stdout",
     "output_type": "stream",
     "text": [
      "Eq(y(x), (C1 + C2*exp(x))*exp(x))\n"
     ]
    }
   ],
   "source": [
    "# Importar SymPy\n",
    "import sympy as sp\n",
    "\n",
    "# Definir la variable independiente y la función dependiente\n",
    "x = sp.symbols('x')\n",
    "y = sp.Function('y')(x)\n",
    "\n",
    "# Definir la ecuación diferencial\n",
    "ode = sp.Eq(y.diff(x, x) - 3*y.diff(x) + 2*y, 0)\n",
    "\n",
    "# Resolver la ecuación diferencial\n",
    "solution = sp.dsolve(ode)\n",
    "print(solution)\n",
    "\n"
   ]
  },
  {
   "cell_type": "markdown",
   "metadata": {},
   "source": [
    "\n",
    "Algunas Ventajas de Sympy son:\n",
    "- SymPy realiza cálculos con precisión simbólica, lo que significa que los resultados son exactos y no están sujetos a errores de redondeo o precisión finita como en los métodos numéricos.\n",
    "- Las soluciones simbólicas pueden ser más generales y aplicarse a una gama más amplia de condiciones iniciales y parámetros sin necesidad de recalcular.\n"
   ]
  },
  {
   "cell_type": "markdown",
   "metadata": {},
   "source": [
    "## Librería SciPy"
   ]
  },
  {
   "cell_type": "markdown",
   "metadata": {},
   "source": [
    "Algunas de las funciones principales de la librería SciPy para resolver ecuaciones diferenciales son:\n",
    "- scipy.integrate.quad: Para realizar integración numérica, útil para obtener soluciones analíticas a partir de EDO.\n",
    "- scipy.integrate.simps: Método de Simpson para la integración numérica, aplicable a datos discretos.\n",
    "- Entre otros.\n",
    "<!--  -->"
   ]
  },
  {
   "cell_type": "markdown",
   "metadata": {},
   "source": [
    " La función principal en SciPy es **scipy.integrate.solve_ivp**"
   ]
  },
  {
   "cell_type": "code",
   "execution_count": 3,
   "metadata": {
    "trusted": true
   },
   "outputs": [
    {
     "data": {
      "image/png": "[encoded data removed]",
      "text/plain": [
       "<Figure size 640x480 with 1 Axes>"
      ]
     },
     "metadata": {},
     "output_type": "display_data"
    }
   ],
   "source": [
    "from scipy.integrate import solve_ivp\n",
    "import numpy as np\n",
    "import matplotlib.pyplot as plt\n",
    "\n",
    "# Definir la función que representa el sistema de EDO\n",
    "def f(t, y):\n",
    "    return -2 * y + 1  # Ejemplo: y' = -2y + 1\n",
    "\n",
    "# Definir el intervalo y las condiciones iniciales\n",
    "t_span = (0, 5)  # Intervalo de tiempo\n",
    "y0 = [0]  # Condición inicial\n",
    "\n",
    "# Resolver la EDO\n",
    "sol = solve_ivp(f, t_span, y0, t_eval=np.linspace(0, 5, 100))\n",
    "\n",
    "# Graficar la solución\n",
    "plt.plot(sol.t, sol.y[0])\n",
    "plt.xlabel('t')\n",
    "plt.ylabel('y(t)')\n",
    "plt.title('Solución de la EDO')\n",
    "plt.grid()\n",
    "plt.show()\n"
   ]
  },
  {
   "cell_type": "markdown",
   "metadata": {},
   "source": [
    "Métodos de integración y resolución de EDO:\n",
    "**scipy.integrate.odeint:** Esta es una función anterior para resolver EDO que utiliza el método de integración de Fortran ODEPACK. Aunque solve_ivp es más versátil y recomendado, odeint todavía se utiliza en algunos casos."
   ]
  },
  {
   "cell_type": "code",
   "execution_count": 4,
   "metadata": {
    "trusted": true
   },
   "outputs": [
    {
     "data": {
      "image/png": "[encoded data removed]",
      "text/plain": [
       "<Figure size 640x480 with 1 Axes>"
      ]
     },
     "metadata": {},
     "output_type": "display_data"
    }
   ],
   "source": [
    "from scipy.integrate import odeint\n",
    "\n",
    "# Definir la función de EDO\n",
    "def model(y, t):\n",
    "    dydt = -2 * y + 1\n",
    "    return dydt\n",
    "\n",
    "# Tiempo y condición inicial\n",
    "t = np.linspace(0, 5, 100)\n",
    "y0 = 0\n",
    "\n",
    "# Resolver la EDO\n",
    "y = odeint(model, y0, t)\n",
    "\n",
    "# Graficar\n",
    "plt.plot(t, y)\n",
    "plt.xlabel('t')\n",
    "plt.ylabel('y(t)')\n",
    "plt.title('Solución de la EDO con odeint')\n",
    "plt.grid()\n",
    "plt.show()\n"
   ]
  },
  {
   "cell_type": "code",
   "execution_count": 5,
   "metadata": {
    "trusted": true
   },
   "outputs": [
    {
     "data": {
      "image/png": "[encoded data removed]",
      "text/plain": [
       "<Figure size 640x480 with 1 Axes>"
      ]
     },
     "metadata": {},
     "output_type": "display_data"
    }
   ],
   "source": [
    "from scipy.integrate import solve_ivp\n",
    "import numpy as np\n",
    "import matplotlib.pyplot as plt\n",
    "\n",
    "# Definir la función de la EDO\n",
    "def pendulo(t, y):\n",
    "    g = 9.81  # gravedad\n",
    "    L = 1.0   # longitud del péndulo\n",
    "    dydt = [y[1], -g/L * np.sin(y[0])]\n",
    "    return dydt\n",
    "\n",
    "# Condiciones iniciales y tiempo\n",
    "y0 = [np.pi / 4, 0]  # ángulo inicial y velocidad\n",
    "t_span = (0, 10)      # intervalo de tiempo\n",
    "t_eval = np.linspace(t_span[0], t_span[1], 100)  # puntos de evaluación\n",
    "\n",
    "# Resolver la EDO\n",
    "sol = solve_ivp(pendulo, t_span, y0, t_eval=t_eval)\n",
    "\n",
    "# Graficar la solución\n",
    "plt.plot(sol.t, sol.y[0])\n",
    "plt.xlabel('Tiempo (s)')\n",
    "plt.ylabel('Ángulo (rad)')\n",
    "plt.title('Movimiento del Péndulo')\n",
    "plt.grid()\n",
    "plt.show()\n"
   ]
  },
  {
   "cell_type": "markdown",
   "metadata": {},
   "source": [
    "Algunas diferencias entre ambas son:\n",
    "\n",
    "**Métodos Numéricos**\n",
    "\n",
    "*solve_ivp:*\n",
    "\n",
    "- Permite elegir entre varios métodos de integración, incluyendo:\n",
    "    - RK45 (Runge-Kutta de 4°/5° orden)\n",
    "    - RK23 (Runge-Kutta de 2°/3° orden)\n",
    "    - DOP853 (Runge-Kutta de 8° orden)\n",
    "    - LSODA (un método que cambia automáticamente entre integración de orden bajo y alto según el problema).\n",
    "\n",
    "*odeint:*\n",
    "\n",
    "- Utiliza un único método de integración, basado en el algoritmo ODEPACK de Fortran, que es adecuado para muchos problemas pero no ofrece la flexibilidad de elegir entre múltiples métodos.\n",
    "\n",
    "  \n",
    "**Parámetros y Opciones**\n",
    "\n",
    "*solve_ivp:*\n",
    "\n",
    "- Permite pasar una serie de opciones, como tolerancias relativas y absolutas, y especificar condiciones iniciales de manera más directa.\n",
    "Tiene la opción de manejar eventos (por ejemplo, detección de cruce de umbrales) y permitir la integración con condiciones de frontera.\n",
    "Permite un control más detallado del proceso de integración.\n",
    "\n",
    "\n",
    "*odeint:*\n",
    "\n",
    "- Ofrece menos opciones en comparación con solve_ivp.\n",
    "Las tolerancias y parámetros de integración están menos expuestos al usuario."
   ]
  },
  {
   "cell_type": "markdown",
   "metadata": {},
   "source": [
    "## Matplotlib"
   ]
  },
  {
   "cell_type": "markdown",
   "metadata": {},
   "source": [
    "Es una biblioteca completa para crear visualizaciones estáticas, animadas e interactivas en Python.\n",
    "\n",
    "La función **quiver** en Matplotlib es ideal para representar campos vectoriales. Se utiliza principalmente para mostrar campos de dirección y magnitud, como en el caso de la visualización de fuerzas, velocidades de fluido o cualquier tipo de campo vectorial en el plano.\n",
    "\n",
    "La función **np.meshgrid** en NumPy es una herramienta útil para generar una cuadrícula de coordenadas, que resulta ideal para graficar campos vectoriales, entre otros usos.\n",
    "Cuando tienes dos vectores de valores x y y, la función np.meshgrid toma esos vectores y produce dos matrices bidimensionales X y Y que representan todas las combinaciones posibles de coordenadas en una cuadrícula.\n",
    "\n",
    "\n",
    "A continuacion un codigo que demuestra como funciona:"
   ]
  },
  {
   "cell_type": "code",
   "execution_count": 2,
   "metadata": {
    "trusted": true
   },
   "outputs": [
    {
     "data": {
      "image/png": "[encoded data removed]",
      "text/plain": [
       "<Figure size 640x480 with 1 Axes>"
      ]
     },
     "metadata": {},
     "output_type": "display_data"
    }
   ],
   "source": [
    "import numpy as np\n",
    "import matplotlib.pyplot as plt\n",
    "\n",
    "# Definir el rango de valores para x y y\n",
    "x = np.linspace(-2, 4, 10)\n",
    "y = np.linspace(-2, 4, 10)\n",
    "\n",
    "# Crear una cuadrícula de coordenadas\n",
    "X, Y = np.meshgrid(x, y)\n",
    "\n",
    "# Calcular los componentes x e y del campo vectorial\n",
    "U = -Y\n",
    "V = X\n",
    "\n",
    "# Graficar el campo vectorial\n",
    "plt.quiver(X, Y, U, V)\n",
    "plt.xlabel('Eje X')\n",
    "plt.ylabel('Eje Y')\n",
    "plt.title('Campo Vectorial')\n",
    "plt.axis('equal')\n",
    "plt.show()"
   ]
  },
  {
   "cell_type": "markdown",
   "metadata": {},
   "source": [
    "Formato de la funcion quiver:\n",
    "\n",
    "plt.quiver(X, Y, U, V, **kwargs)\n"
   ]
  },
  {
   "cell_type": "markdown",
   "metadata": {},
   "source": [
    "Los parametros necesarios son:\n",
    "- X, Y: Arrays bidimensionales que indican las coordenadas de inicio de los vectores en el gráfico.\n",
    "- U, V: Arrays bidimensionales que indican los componentes del vector en las direcciones X y Y.\n",
    "    - U es la componente en el eje X, y V es la componente en el eje Y.\n",
    "- kwargs: Argumentos opcionales para personalizar la visualización."
   ]
  },
  {
   "cell_type": "markdown",
   "metadata": {},
   "source": [
    "# Parte 2: Aplicaciones Numéricas y Simbólicas"
   ]
  },
  {
   "attachments": {},
   "cell_type": "markdown",
   "metadata": {},
   "source": [
    "Ejercicio 13 de la guía de Ecuaciones Diferenciales:\n",
    "\n",
    "y' + y= tsen(t), y(0)=0"
   ]
  },
  {
   "cell_type": "markdown",
   "metadata": {},
   "source": [
    "#### *SymPy*\n"
   ]
  },
  {
   "cell_type": "code",
   "execution_count": 5,
   "metadata": {
    "trusted": true
   },
   "outputs": [
    {
     "data": {
      "text/latex": [
       "$\\displaystyle y{\\left(t \\right)} = \\frac{\\left(\\left(- \\sqrt{2} t \\cos{\\left(t + \\frac{\\pi}{4} \\right)} + \\cos{\\left(t \\right)}\\right) e^{t} - 1\\right) e^{- t}}{2}$"
      ],
      "text/plain": [
       "Eq(y(t), ((-sqrt(2)*t*cos(t + pi/4) + cos(t))*exp(t) - 1)*exp(-t)/2)"
      ]
     },
     "execution_count": 5,
     "metadata": {},
     "output_type": "execute_result"
    }
   ],
   "source": [
    "import sympy as sp\n",
    "\n",
    "# Definir las variables y la función\n",
    "t = sp.symbols('t')\n",
    "y = sp.Function('y')(t)\n",
    "\n",
    "# Plantear la ecuación diferencial\n",
    "edo = sp.Eq(y.diff(t) + y, t * sp.sin(t))\n",
    "\n",
    "# Resolver la EDO\n",
    "solucion_general = sp.dsolve(edo, y)\n",
    "\n",
    "# Imponer la condición inicial y(0) = 0\n",
    "condicion_inicial = {y.subs(t, 0): 0}\n",
    "solucion_con_condicion = sp.dsolve(edo, y, ics=condicion_inicial)\n",
    "\n",
    "# Mostrar la solución\n",
    "solucion_con_condicion.simplify()\n"
   ]
  },
  {
   "cell_type": "markdown",
   "metadata": {},
   "source": [
    "\n",
    "#### *SciPy*"
   ]
  },
  {
   "cell_type": "code",
   "execution_count": 7,
   "metadata": {
    "trusted": true
   },
   "outputs": [
    {
     "data": {
      "image/png": "[encoded data removed]",
      "text/plain": [
       "<Figure size 640x480 with 1 Axes>"
      ]
     },
     "metadata": {},
     "output_type": "display_data"
    }
   ],
   "source": [
    "import numpy as np\n",
    "from scipy.integrate import solve_ivp\n",
    "import matplotlib.pyplot as plt\n",
    "\n",
    "# Definir la EDO como función de Python\n",
    "def edo(t, y):\n",
    "    return t * np.sin(t) - y\n",
    "\n",
    "# Condición inicial\n",
    "y0 = [0]\n",
    "\n",
    "# Intervalo de solución\n",
    "t_span = (0, 10)\n",
    "t_eval = np.linspace(0, 10, 100)  # Puntos de evaluación en el intervalo\n",
    "\n",
    "# Resolver la EDO\n",
    "sol = solve_ivp(edo, t_span, y0, t_eval=t_eval)\n",
    "\n",
    "# Graficar la solución\n",
    "plt.plot(sol.t, sol.y[0], label=\"y(t)\")\n",
    "plt.xlabel(\"t\")\n",
    "plt.ylabel(\"y(t)\")\n",
    "plt.title(\"Solución de la EDO: $y' + y = t \\\\sin(t)$\")\n",
    "plt.legend()\n",
    "plt.grid()\n",
    "plt.show()\n"
   ]
  },
  {
   "cell_type": "code",
   "execution_count": 8,
   "metadata": {
    "trusted": true
   },
   "outputs": [
    {
     "name": "stdout",
     "output_type": "stream",
     "text": [
      "t = 0.00, y(t) = 0.0000\n",
      "t = 1.11, y(t) = 0.3087\n",
      "t = 2.22, y(t) = 1.2006\n",
      "t = 3.33, y(t) = 0.8099\n",
      "t = 4.44, y(t) = -1.6928\n",
      "t = 5.56, y(t) = -3.5509\n",
      "t = 6.67, y(t) = -1.3801\n",
      "t = 7.78, y(t) = 3.6205\n",
      "t = 8.89, y(t) = 5.6611\n",
      "t = 10.00, y(t) = 1.0546\n"
     ]
    }
   ],
   "source": [
    "import numpy as np\n",
    "from scipy.integrate import solve_ivp\n",
    "\n",
    "# Definir la EDO como función de Python\n",
    "def edo(t, y):\n",
    "    return t * np.sin(t) - y\n",
    "\n",
    "# Condición inicial\n",
    "y0 = [0]\n",
    "\n",
    "# Intervalo de solución y puntos de evaluación\n",
    "t_span = (0, 10)\n",
    "t_eval = np.linspace(0, 10, 10)  # Menos puntos para una impresión más corta\n",
    "\n",
    "# Resolver la EDO\n",
    "sol = solve_ivp(edo, t_span, y0, t_eval=t_eval)\n",
    "\n",
    "# Mostrar los resultados numéricos\n",
    "for t, y in zip(sol.t, sol.y[0]):\n",
    "    print(f\"t = {t:.2f}, y(t) = {y:.4f}\")\n",
    "\n"
   ]
  },
  {
   "cell_type": "markdown",
   "metadata": {},
   "source": [
    "**Comparación**\n",
    "\n",
    "**SymPy**: Proporciona una solución simbólica exacta (cuando es posible). Esto significa que devuelve una expresión matemática que describe la solución de la ecuación diferencial en términos exactos, como una función analítica de 𝑡. Puede servir para cuando necesitemos una *formula general* y tengamos que manipularla, ya sea para luego derivarla, realizar transformaciones, etc.\n",
    "\n",
    "**SciPy**: Proporciona una solución numérica aproximada. En lugar de una fórmula exacta, devuelve un conjunto de puntos de datos evaluados en un intervalo, donde cada punto representa una aproximación de la solución en ese momento. Este método es útil para ecuaciones difíciles o imposibles de resolver simbólicamente, o cuando solo se necesita un rango específico de la solución.\n"
   ]
  },
  {
   "cell_type": "markdown",
   "metadata": {},
   "source": [
    "#### Transformada de Laplace con SymPy"
   ]
  },
  {
   "cell_type": "markdown",
   "metadata": {},
   "source": [
    "Explica el uso de las\n",
    "funciones laplace_transform e inverse_laplace_transform"
   ]
  },
  {
   "cell_type": "markdown",
   "metadata": {},
   "source": [
    "Sympy ofrece la instrucción **sym.laplace_transform(ft,t,s)** para expresiones de f(t) con términos simples. La instrucción desarrolla el integral unilateral con t entre [0,∞], es decir con entradas tipo causal con t>0 o con términos μ(t) y los desplazados hacia la derecha μ(t-1).\n",
    "Argumentos:\n",
    "- ft: La funcion a transformar.\n",
    "- f: La variable f de la cual depende la función.\n",
    "- s: La varibale s de la que depende la funcion transformada F\n",
    "\n",
    "Partiendo de las variable ‘t‘ y ‘s‘ como símbolos , se establece la expresión correspondiente en f(t) para determinar F(s). La transformada se obtiene al usar la instrucción:"
   ]
  },
  {
   "cell_type": "code",
   "execution_count": 11,
   "metadata": {
    "trusted": true
   },
   "outputs": [
    {
     "name": "stdout",
     "output_type": "stream",
     "text": [
      "Transformada de Laplace de f(t) con a=2 y b=3: (3/((s + 2)**2 + 9), -2, True)\n"
     ]
    }
   ],
   "source": [
    "import sympy as sp\n",
    "\n",
    "# Definir las variables simbólicas\n",
    "t, s, a, b = sp.symbols('t s a b')\n",
    "\n",
    "# Definir la función f(t)\n",
    "f_t = sp.exp(-a * t) * sp.sin(b * t)\n",
    "\n",
    "# Asignar valores específicos a a y b\n",
    "valores = {a: 2, b: 3}  # Por ejemplo, a = 2 y b = 3\n",
    "\n",
    "# Calcular la Transformada de Laplace\n",
    "F_s = sp.laplace_transform(f_t.subs(valores), t, s)\n",
    "\n",
    "# Mostrar el resultado\n",
    "print(\"Transformada de Laplace de f(t) con a=2 y b=3:\", F_s)\n"
   ]
  },
  {
   "cell_type": "code",
   "execution_count": 18,
   "metadata": {
    "trusted": true
   },
   "outputs": [
    {
     "name": "stdout",
     "output_type": "stream",
     "text": [
      "Función a Transformar: exp(-a*t)\n",
      "Transformada de Laplace de f(t) 1/(a + s)\n"
     ]
    }
   ],
   "source": [
    "import sympy as sp\n",
    "\n",
    "# Definir las variables simbólicas\n",
    "t = sp.symbols('t', positive=True)\n",
    "s = sp.symbols ('s')\n",
    "a = sp. symbols ('a', real=True, positive=True)\n",
    "\n",
    "#Escribir función a transformar\n",
    "f = sp.exp(-a*t)\n",
    "print(\"Función a Transformar:\",f)\n",
    "\n",
    "# Calcular la Transformada de Laplace\n",
    "F= sp.laplace_transform(f, t, s, noconds=True)\n",
    "\n",
    "# Mostrar el resultado\n",
    "print(\"Transformada de Laplace de f(t)\",F)"
   ]
  },
  {
   "cell_type": "markdown",
   "metadata": {},
   "source": [
    "**Inversa**"
   ]
  },
  {
   "cell_type": "code",
   "execution_count": 20,
   "metadata": {
    "trusted": true
   },
   "outputs": [
    {
     "data": {
      "text/latex": [
       "$\\displaystyle \\frac{1}{s^{2} + 1}$"
      ],
      "text/plain": [
       "1/(s**2 + 1)"
      ]
     },
     "execution_count": 20,
     "metadata": {},
     "output_type": "execute_result"
    }
   ],
   "source": [
    "G = 1/(s**2+1)\n",
    "G"
   ]
  },
  {
   "cell_type": "code",
   "execution_count": 21,
   "metadata": {
    "trusted": true
   },
   "outputs": [
    {
     "data": {
      "text/latex": [
       "$\\displaystyle \\sin{\\left(t \\right)}$"
      ],
      "text/plain": [
       "sin(t)"
      ]
     },
     "execution_count": 21,
     "metadata": {},
     "output_type": "execute_result"
    }
   ],
   "source": [
    "g= sp.inverse_laplace_transform(G, s, t)\n",
    "g"
   ]
  },
  {
   "cell_type": "code",
   "execution_count": 22,
   "metadata": {
    "trusted": true
   },
   "outputs": [
    {
     "data": {
      "image/png": "[encoded data removed]",
      "text/plain": [
       "<Figure size 640x480 with 1 Axes>"
      ]
     },
     "metadata": {},
     "output_type": "display_data"
    },
    {
     "data": {
      "text/plain": [
       "<sympy.plotting.plot.Plot at 0x87a5b80>"
      ]
     },
     "execution_count": 22,
     "metadata": {},
     "output_type": "execute_result"
    }
   ],
   "source": [
    "sp.plot(g)"
   ]
  },
  {
   "cell_type": "markdown",
   "metadata": {},
   "source": [
    "Tanto  *laplace_transform* como *inverse_laplace_transform* nos pueden servir para realizar funciones que retornen las transformadas de Laplace y la inversa de cualquier funicion que le pasemos y de esta forma poder resolver sistemas de Ecuaciones Diferenciales mediante este método  así como demás usos."
   ]
  },
  {
   "cell_type": "markdown",
   "metadata": {},
   "source": [
    "#### Matrices Simbolicas Sympy"
   ]
  },
  {
   "cell_type": "code",
   "execution_count": 28,
   "metadata": {
    "trusted": true
   },
   "outputs": [
    {
     "data": {
      "text/latex": [
       "$\\displaystyle \\left[\\begin{matrix}1 & 0 & 0\\\\0 & 1 & 0\\\\0 & 0 & 1\\end{matrix}\\right]$"
      ],
      "text/plain": [
       "Matrix([\n",
       "[1, 0, 0],\n",
       "[0, 1, 0],\n",
       "[0, 0, 1]])"
      ]
     },
     "execution_count": 28,
     "metadata": {},
     "output_type": "execute_result"
    }
   ],
   "source": [
    ">>> import numpy as np\n",
    "\n",
    ">>> # Funcion eye de Sympy (matriz)\n",
    ">>> sp.eye(3)"
   ]
  },
  {
   "cell_type": "code",
   "execution_count": 29,
   "metadata": {
    "trusted": true
   },
   "outputs": [
    {
     "data": {
      "text/plain": [
       "array([[1., 0., 0.],\n",
       "       [0., 1., 0.],\n",
       "       [0., 0., 1.]])"
      ]
     },
     "execution_count": 29,
     "metadata": {},
     "output_type": "execute_result"
    }
   ],
   "source": [
    ">>> # Funcion eye de Numpy (array)\n",
    ">>> np.eye(3)"
   ]
  },
  {
   "cell_type": "code",
   "execution_count": 34,
   "metadata": {
    "trusted": true
   },
   "outputs": [
    {
     "data": {
      "text/latex": [
       "$\\displaystyle \\left[\\begin{matrix}x & k\\\\y & x\\end{matrix}\\right]$"
      ],
      "text/plain": [
       "Matrix([\n",
       "[x, k],\n",
       "[y, x]])"
      ]
     },
     "execution_count": 34,
     "metadata": {},
     "output_type": "execute_result"
    }
   ],
   "source": [
    "x = sp.Symbol('x')\n",
    "y = sp.Symbol('y')\n",
    "z = sp.Symbol ('k')\n",
    "\n",
    "A = sp.Matrix([[x,z], [y,x]])\n",
    "A"
   ]
  },
  {
   "cell_type": "markdown",
   "metadata": {},
   "source": [
    "**Determinante de una matriz e inversa**"
   ]
  },
  {
   "cell_type": "markdown",
   "metadata": {},
   "source": [
    "El determinante de una matriz se resuelve gracias al método det().\n",
    "Su uso es \"Nombre de la matriz a utilizar\".det()"
   ]
  },
  {
   "cell_type": "code",
   "execution_count": 36,
   "metadata": {
    "trusted": true
   },
   "outputs": [
    {
     "data": {
      "text/latex": [
       "$\\displaystyle \\left[\\begin{matrix}12 & y & 45\\\\x & -15 & 18\\\\5 & 20 & k\\end{matrix}\\right]$"
      ],
      "text/plain": [
       "Matrix([\n",
       "[12,   y, 45],\n",
       "[ x, -15, 18],\n",
       "[ 5,  20,  k]])"
      ]
     },
     "execution_count": 36,
     "metadata": {},
     "output_type": "execute_result"
    }
   ],
   "source": [
    "x = sp.Symbol('x')\n",
    "y = sp.Symbol('y')\n",
    "z = sp.Symbol ('k')\n",
    "B = sp.Matrix([[12,y,45],[x,-15,18],[5,20,z]])\n",
    "B"
   ]
  },
  {
   "cell_type": "code",
   "execution_count": 37,
   "metadata": {
    "trusted": true
   },
   "outputs": [
    {
     "data": {
      "text/latex": [
       "$\\displaystyle - k x y - 180 k + 900 x + 90 y - 945$"
      ],
      "text/plain": [
       "-k*x*y - 180*k + 900*x + 90*y - 945"
      ]
     },
     "execution_count": 37,
     "metadata": {},
     "output_type": "execute_result"
    }
   ],
   "source": [
    "B.det()"
   ]
  },
  {
   "cell_type": "markdown",
   "metadata": {},
   "source": [
    "La inversa de una matriz se resuelve mediante el método inv().\n",
    "Su uso es \"Nombre de la matriz a utilizar\".inv()"
   ]
  },
  {
   "cell_type": "code",
   "execution_count": 38,
   "metadata": {
    "trusted": true
   },
   "outputs": [
    {
     "data": {
      "text/latex": [
       "$\\displaystyle \\left[\\begin{matrix}\\frac{15 k + 360}{k x y + 180 k - 900 x - 90 y + 945} & \\frac{k y - 900}{k x y + 180 k - 900 x - 90 y + 945} & \\frac{- 18 y - 675}{k x y + 180 k - 900 x - 90 y + 945}\\\\\\frac{k x - 90}{k x y + 180 k - 900 x - 90 y + 945} & \\frac{225 - 12 k}{k x y + 180 k - 900 x - 90 y + 945} & \\frac{216 - 45 x}{k x y + 180 k - 900 x - 90 y + 945}\\\\\\frac{- 20 x - 75}{k x y + 180 k - 900 x - 90 y + 945} & \\frac{240 - 5 y}{k x y + 180 k - 900 x - 90 y + 945} & \\frac{x y + 180}{k x y + 180 k - 900 x - 90 y + 945}\\end{matrix}\\right]$"
      ],
      "text/plain": [
       "Matrix([\n",
       "[(15*k + 360)/(k*x*y + 180*k - 900*x - 90*y + 945),  (k*y - 900)/(k*x*y + 180*k - 900*x - 90*y + 945), (-18*y - 675)/(k*x*y + 180*k - 900*x - 90*y + 945)],\n",
       "[  (k*x - 90)/(k*x*y + 180*k - 900*x - 90*y + 945), (225 - 12*k)/(k*x*y + 180*k - 900*x - 90*y + 945),  (216 - 45*x)/(k*x*y + 180*k - 900*x - 90*y + 945)],\n",
       "[(-20*x - 75)/(k*x*y + 180*k - 900*x - 90*y + 945),  (240 - 5*y)/(k*x*y + 180*k - 900*x - 90*y + 945),   (x*y + 180)/(k*x*y + 180*k - 900*x - 90*y + 945)]])"
      ]
     },
     "execution_count": 38,
     "metadata": {},
     "output_type": "execute_result"
    }
   ],
   "source": [
    "B.inv()"
   ]
  },
  {
   "cell_type": "code",
   "execution_count": 40,
   "metadata": {
    "trusted": true
   },
   "outputs": [
    {
     "data": {
      "text/latex": [
       "$\\displaystyle \\left[\\begin{matrix}1 & 0 & 0\\\\0 & 1 & 0\\\\0 & 0 & 1\\end{matrix}\\right]$"
      ],
      "text/plain": [
       "Matrix([\n",
       "[1, 0, 0],\n",
       "[0, 1, 0],\n",
       "[0, 0, 1]])"
      ]
     },
     "execution_count": 40,
     "metadata": {},
     "output_type": "execute_result"
    }
   ],
   "source": [
    "B = sp.Matrix([[12,26,45],[3,-15,18],[54,20,0]])\n",
    "B.inv()*B"
   ]
  },
  {
   "cell_type": "markdown",
   "metadata": {},
   "source": [
    "- SymPy es preferido para aplicaciones donde se requiere un análisis simbólico profundo, como en matemáticas puras, teoría de control, y derivaciones. Es ideal para obtener expresiones generales y hacer manipulaciones algebraicas. Aquí se pueden definir matrices cuyos elementos son expresiones simbólicas, lo que permite resolver ecuaciones o sistemas de ecuaciones en forma simbólica.\n",
    "- NumPy, por otro lado, es la elección correcta para aplicaciones que requieren cálculos numéricos eficientes y procesamiento de datos a gran escala. Es mejor en situaciones donde el rendimiento es crucial y las aproximaciones son aceptables."
   ]
  },
  {
   "cell_type": "markdown",
   "metadata": {},
   "source": [
    "# Parte 3: Cálculo de Derivadas, limites e integrales"
   ]
  },
  {
   "cell_type": "markdown",
   "metadata": {},
   "source": [
    "**Derivada**: Se puede derivar cualquier expresión SymPy usando **diff(func, var)**"
   ]
  },
  {
   "cell_type": "code",
   "execution_count": 41,
   "metadata": {
    "trusted": true
   },
   "outputs": [
    {
     "name": "stdout",
     "output_type": "stream",
     "text": [
      "La derivada de f(x) = x**2 + sin(x) con respecto a x es: 2*x + cos(x)\n"
     ]
    }
   ],
   "source": [
    "# Importar SymPy\n",
    "import sympy as sp\n",
    "\n",
    "# Definir variables simbólicas\n",
    "x = sp.symbols('x')\n",
    "\n",
    "# Definir una función simbólica\n",
    "f = x**2 + sp.sin(x)\n",
    "\n",
    "# Calcular la derivada de f con respecto a x\n",
    "f_prime = sp.diff(f, x)\n",
    "\n",
    "# Mostrar el resultado\n",
    "print(\"La derivada de f(x) =\", f, \"con respecto a x es:\", f_prime)"
   ]
  },
  {
   "cell_type": "code",
   "execution_count": 42,
   "metadata": {
    "trusted": true
   },
   "outputs": [
    {
     "name": "stdout",
     "output_type": "stream",
     "text": [
      "La segunda derivada de f(x) = x**2 + sin(x) con respecto a x es: 2 - sin(x)\n"
     ]
    }
   ],
   "source": [
    "# Segunda derivada de f con respecto a x\n",
    "f_double_prime = sp.diff(f, x, 2)\n",
    "\n",
    "# Mostrar el resultado\n",
    "print(\"La segunda derivada de f(x) =\", f, \"con respecto a x es:\", f_double_prime)"
   ]
  },
  {
   "cell_type": "code",
   "execution_count": 43,
   "metadata": {
    "trusted": true
   },
   "outputs": [
    {
     "name": "stdout",
     "output_type": "stream",
     "text": [
      "2*x*y**3 + y*cos(x*y)\n",
      "3*x**2*y**2 + x*cos(x*y)\n"
     ]
    }
   ],
   "source": [
    "# Importar SymPy\n",
    "import sympy as sp\n",
    "\n",
    "# Definir variables simbólicas\n",
    "x, y = sp.symbols('x y')\n",
    "\n",
    "# Definir una función de dos variables\n",
    "f = x**2 * y**3 + sp.sin(x*y)\n",
    "\n",
    "# Calcular la derivada parcial de la función f con respecto a x\n",
    "f_partial_x = sp.diff(f, x)\n",
    "\n",
    "# Calcular la derivada parcial de la función f con respecto a y\n",
    "f_partial_y = sp.diff(f, y)\n",
    "\n",
    "# Mostrar los resultados\n",
    "print(f_partial_x)\n",
    "print(f_partial_y)"
   ]
  },
  {
   "cell_type": "markdown",
   "metadata": {},
   "source": [
    "\n",
    "\n",
    "**Límites**: Los límites son fáciles de usar en SymPy, siguen la sintáxis **limit(función, variable, punto)**."
   ]
  },
  {
   "cell_type": "code",
   "execution_count": 44,
   "metadata": {
    "trusted": true
   },
   "outputs": [
    {
     "name": "stdout",
     "output_type": "stream",
     "text": [
      "1\n"
     ]
    }
   ],
   "source": [
    "import sympy as sp\n",
    "\n",
    "# Definir la variable simbólica\n",
    "x = sp.symbols('x')\n",
    "\n",
    "# Definir la función\n",
    "function = sp.sin(x) / x\n",
    "\n",
    "# Calcular el límite cuando x tiende a 0\n",
    "limit_result = sp.limit(function, x, 0)\n",
    "\n",
    "# Mostrar el resultado\n",
    "print(limit_result)"
   ]
  },
  {
   "cell_type": "code",
   "execution_count": 45,
   "metadata": {
    "trusted": true
   },
   "outputs": [
    {
     "name": "stdout",
     "output_type": "stream",
     "text": [
      "0\n"
     ]
    }
   ],
   "source": [
    "import sympy as sp\n",
    "\n",
    "# Definir la variable simbólica\n",
    "x = sp.symbols('x')\n",
    "\n",
    "# Definir la función\n",
    "function = 1 / x\n",
    "\n",
    "# Calcular el límite cuando x tiende a infinito\n",
    "limit_result = sp.limit(function, x, sp.oo)\n",
    "\n",
    "# Mostrar el resultado\n",
    "print(limit_result)"
   ]
  },
  {
   "cell_type": "markdown",
   "metadata": {},
   "source": [
    "- SymPy realiza cálculos simbólicos exactos, lo que significa que no hay riesgo de cometer errores de cálculo al manipular expresiones. Esto es especialmente útil en límites que involucran formas indeterminadas (como 0/0 o ∞/∞), donde los pasos manuales pueden ser complejos y propensos a errores.\n",
    "- La librería aplica automáticamente reglas matemáticas pertinentes, como la regla de L'Hôpital, cuando se detecta una forma indeterminada. Esto puede ser un proceso iterativo, donde SymPy aplica repetidamente la regla hasta llegar a una expresión que sea evaluable.\n"
   ]
  },
  {
   "cell_type": "markdown",
   "metadata": {},
   "source": [
    "El uso de SymPy para el cálculo simbólico de límites proporciona una serie de ventajas significativas sobre los métodos manuales. La capacidad de realizar cálculos precisos, automatizar técnicas avanzadas y manejar formas indeterminadas facilita el trabajo con límites complicados. Esto no solo ahorra tiempo y reduce errores, sino que también permite a los usuarios centrarse en el análisis y la interpretación de los resultados en lugar de en los pasos intermedios del cálculo. En definitiva, SymPy es una herramienta poderosa que mejora la eficiencia y la precisión en el trabajo con límites y otras operaciones matemáticas simbólicas."
   ]
  },
  {
   "cell_type": "markdown",
   "metadata": {},
   "source": []
  },
  {
   "cell_type": "markdown",
   "metadata": {},
   "source": [
    "**Integral** : SymPy ofrece soporte para integrales definidas o indefinidas de funciones transcendentes elementales y de funciones especiales via **integrate()**, que usa una potente extensión del algoritmo Risch-Norman y algo de heurística y de reconocimiento de patrones"
   ]
  },
  {
   "cell_type": "code",
   "execution_count": 46,
   "metadata": {
    "trusted": true
   },
   "outputs": [
    {
     "name": "stdout",
     "output_type": "stream",
     "text": [
      "8/3\n"
     ]
    }
   ],
   "source": [
    "import sympy as sp\n",
    "\n",
    "# Definir la variable\n",
    "x = sp.symbols('x')\n",
    "\n",
    "# Definir la función\n",
    "f = x**2\n",
    "\n",
    "# Calcular la integral definida\n",
    "integral_definida = sp.integrate(f, (x, 0, 2))\n",
    "\n",
    "# Mostrar el resultado\n",
    "print(integral_definida)"
   ]
  },
  {
   "cell_type": "code",
   "execution_count": 48,
   "metadata": {
    "trusted": true
   },
   "outputs": [
    {
     "name": "stdout",
     "output_type": "stream",
     "text": [
      "x**3/3\n"
     ]
    }
   ],
   "source": [
    "import sympy as sp\n",
    "\n",
    "# Definir la variable\n",
    "x = sp.symbols('x')\n",
    "\n",
    "# Definir la función\n",
    "f = x**2\n",
    "\n",
    "# Calcular la integral indefinida\n",
    "integral_indefinida = sp.integrate(f, x)\n",
    "\n",
    "# Mostrar el resultado\n",
    "print(integral_indefinida)"
   ]
  },
  {
   "cell_type": "code",
   "execution_count": 47,
   "metadata": {
    "trusted": true
   },
   "outputs": [
    {
     "name": "stdout",
     "output_type": "stream",
     "text": [
      "1\n"
     ]
    }
   ],
   "source": [
    "import sympy as sp\n",
    "\n",
    "# Definir la variable\n",
    "x = sp.symbols('x')\n",
    "\n",
    "# Definir la función\n",
    "f = sp.exp(-x)\n",
    "\n",
    "# Calcular la integral impropia\n",
    "integral_impropia = sp.integrate(f, (x, 0, sp.oo))\n",
    "\n",
    "# Mostrar el resultado\n",
    "print(integral_impropia)"
   ]
  },
  {
   "cell_type": "markdown",
   "metadata": {},
   "source": [
    "# Parte 4: Exploración Avanzada"
   ]
  },
  {
   "cell_type": "markdown",
   "metadata": {},
   "source": [
    "Para resolver sistemas de ecuaciones diferenciales acopladas en SciPy, se utiliza la función solve_ivp (solve initial value problem), que resuelve ecuaciones diferenciales ordinarias (ODEs) con condiciones iniciales. Aquí tienes los pasos clave para resolver un sistema acoplado de ecuaciones usando *solve_ivp*:"
   ]
  },
  {
   "cell_type": "markdown",
   "metadata": {},
   "source": [
    "Pasos:\n",
    "- Definir las ecuaciones: Primero, se expresan las ecuaciones diferenciales en función de las variables dependientes y el tiempo. Si el sistema tiene dos variables dependientes, por ejemplo *y1* y *y2*,las ecuaciones deben escribirse en una función que tome el tiempo*𝑡* y un vector *[*y1*, *y2*]*.\n",
    "- Especificar las condiciones iniciales: Se define el estado inicial del sistema (valores de *y1* y *y2* en *t*=0).\n",
    "- Configurar el intervalo de solución: Seleccionar el rango de tiempo en el cual quieres resolver el sistema (por ejemplo, desde *t*=0 hasta *t*=10).\n",
    "\n",
    "- Resolver con solve_ivp: Se llama a *solve_ivp* con la función de ecuaciones, el intervalo de tiempo y las condiciones iniciales. También puedes especificar el método de integración (como 'RK45' o 'LSODA'), así como opciones adicionales para ajustar la precisión.\n",
    "\n",
    "- Visualizar los resultados: Finalmente, el resultado incluye el tiempo y las soluciones para cada variable, lo cual puedes graficar para analizar el comportamiento de las soluciones en función del tiempo."
   ]
  },
  {
   "cell_type": "code",
   "execution_count": 1,
   "metadata": {
    "trusted": true
   },
   "outputs": [
    {
     "data": {
      "image/png": "[encoded data removed]",
      "text/plain": [
       "<Figure size 640x480 with 1 Axes>"
      ]
     },
     "metadata": {},
     "output_type": "display_data"
    }
   ],
   "source": [
    "from scipy.integrate import solve_ivp\n",
    "import numpy as np\n",
    "import matplotlib.pyplot as plt\n",
    "\n",
    "# Definir el sistema de ecuaciones\n",
    "def system(t, y):\n",
    "    y1, y2 = y\n",
    "    dydt = [-0.5 * y1 + y2, -0.3 * y1 - 0.1 * y2]\n",
    "    return dydt\n",
    "\n",
    "# Condiciones iniciales\n",
    "y0 = [1, 0]\n",
    "\n",
    "# Intervalo de tiempo\n",
    "t_span = (0, 10)\n",
    "\n",
    "# Resolver el sistema\n",
    "solution = solve_ivp(system, t_span, y0, method='RK45', t_eval=np.linspace(0, 10, 100))\n",
    "\n",
    "# Graficar resultados\n",
    "plt.plot(solution.t, solution.y[0], label='y1')\n",
    "plt.plot(solution.t, solution.y[1], label='y2')\n",
    "plt.xlabel('Tiempo')\n",
    "plt.ylabel('Solución')\n",
    "plt.legend()\n",
    "plt.show()\n"
   ]
  },
  {
   "cell_type": "code",
   "execution_count": 3,
   "metadata": {
    "trusted": true
   },
   "outputs": [
    {
     "data": {
      "image/png": "[encoded data removed]",
      "text/plain": [
       "<Figure size 640x480 with 1 Axes>"
      ]
     },
     "metadata": {},
     "output_type": "display_data"
    }
   ],
   "source": [
    "import numpy as np\n",
    "from scipy.integrate import solve_ivp\n",
    "import matplotlib.pyplot as plt\n",
    "import math\n",
    "\n",
    "# Definir el sistema de ecuaciones diferenciales\n",
    "def fun(t, U):\n",
    "    x, v = U\n",
    "    return [v, -x]\n",
    "\n",
    "# Condiciones iniciales y puntos de tiempo\n",
    "U_0 = [0, 1]\n",
    "t_pts = np.linspace(0, 15, 100)\n",
    "\n",
    "# Resolver el sistema\n",
    "resultado = solve_ivp(fun, (0, 20 * math.pi), U_0, t_eval=t_pts)\n",
    "\n",
    "# Graficar la solución numérica y la analítica\n",
    "plt.plot(t_pts, resultado.y[0, :], label=\"Numerical solution\")\n",
    "plt.plot(t_pts, [math.sin(t) for t in t_pts], \"o\", label=\"Analytical solution\")\n",
    "plt.xlabel(\"t\")\n",
    "plt.ylabel(\"x(t)\")\n",
    "plt.xlim(0, 40)\n",
    "plt.legend()\n",
    "plt.show()\n"
   ]
  },
  {
   "cell_type": "markdown",
   "metadata": {},
   "source": [
    "**Ploty**"
   ]
  },
  {
   "cell_type": "markdown",
   "metadata": {},
   "source": [
    "La biblioteca de gráficos de Python de Plotly crea gráficos interactivos con calidad de publicación. Ejemplos de cómo crear gráficos de líneas, gráficos de dispersión, gráficos de áreas, gráficos de barras, barras de error, gráficos de cajas, histogramas, mapas de calor, subgráficos, ejes múltiples, gráficos polares y gráficos de burbujas.\n",
    "Plotly.py es gratuito y de código abierto"
   ]
  },
  {
   "cell_type": "markdown",
   "metadata": {},
   "source": [
    "Busca ejemplos de gráficos 3D y describe las herramientas necesarias para realizar estos\n",
    "gráficos en Python.\n"
   ]
  },
  {
   "cell_type": "code",
   "execution_count": 6,
   "metadata": {
    "trusted": true
   },
   "outputs": [
    {
     "ename": "ValueError",
     "evalue": "Mime type rendering requires nbformat>=4.2.0 but it is not installed",
     "output_type": "error",
     "traceback": [
      "\u001b[1;31m---------------------------------------------------------------------------\u001b[0m",
      "\u001b[1;31mValueError\u001b[0m                                Traceback (most recent call last)",
      "Cell \u001b[1;32mIn[6], line 4\u001b[0m\n\u001b[0;32m      2\u001b[0m df \u001b[38;5;241m=\u001b[39m px\u001b[38;5;241m.\u001b[39mdata\u001b[38;5;241m.\u001b[39miris()\n\u001b[0;32m      3\u001b[0m fig \u001b[38;5;241m=\u001b[39m px\u001b[38;5;241m.\u001b[39mscatter_3d(df, x \u001b[38;5;241m=\u001b[39m \u001b[38;5;124m'\u001b[39m\u001b[38;5;124msepal_length\u001b[39m\u001b[38;5;124m'\u001b[39m, y\u001b[38;5;241m=\u001b[39m\u001b[38;5;124m'\u001b[39m\u001b[38;5;124msepal_width\u001b[39m\u001b[38;5;124m'\u001b[39m, z\u001b[38;5;241m=\u001b[39m\u001b[38;5;124m'\u001b[39m\u001b[38;5;124mpetal_width\u001b[39m\u001b[38;5;124m'\u001b[39m, color\u001b[38;5;241m=\u001b[39m \u001b[38;5;124m'\u001b[39m\u001b[38;5;124mspecies\u001b[39m\u001b[38;5;124m'\u001b[39m)\n\u001b[1;32m----> 4\u001b[0m \u001b[43mfig\u001b[49m\u001b[38;5;241;43m.\u001b[39;49m\u001b[43mshow\u001b[49m\u001b[43m(\u001b[49m\u001b[43m)\u001b[49m\n",
      "File \u001b[1;32mc:\\Users\\calen\\AppData\\Local\\Programs\\Python\\Python312\\Lib\\site-packages\\plotly\\basedatatypes.py:3410\u001b[0m, in \u001b[0;36mBaseFigure.show\u001b[1;34m(self, *args, **kwargs)\u001b[0m\n\u001b[0;32m   3377\u001b[0m \u001b[38;5;250m\u001b[39m\u001b[38;5;124;03m\"\"\"\u001b[39;00m\n\u001b[0;32m   3378\u001b[0m \u001b[38;5;124;03mShow a figure using either the default renderer(s) or the renderer(s)\u001b[39;00m\n\u001b[0;32m   3379\u001b[0m \u001b[38;5;124;03mspecified by the renderer argument\u001b[39;00m\n\u001b[1;32m   (...)\u001b[0m\n\u001b[0;32m   3406\u001b[0m \u001b[38;5;124;03mNone\u001b[39;00m\n\u001b[0;32m   3407\u001b[0m \u001b[38;5;124;03m\"\"\"\u001b[39;00m\n\u001b[0;32m   3408\u001b[0m \u001b[38;5;28;01mimport\u001b[39;00m \u001b[38;5;21;01mplotly\u001b[39;00m\u001b[38;5;21;01m.\u001b[39;00m\u001b[38;5;21;01mio\u001b[39;00m \u001b[38;5;28;01mas\u001b[39;00m \u001b[38;5;21;01mpio\u001b[39;00m\n\u001b[1;32m-> 3410\u001b[0m \u001b[38;5;28;01mreturn\u001b[39;00m \u001b[43mpio\u001b[49m\u001b[38;5;241;43m.\u001b[39;49m\u001b[43mshow\u001b[49m\u001b[43m(\u001b[49m\u001b[38;5;28;43mself\u001b[39;49m\u001b[43m,\u001b[49m\u001b[43m \u001b[49m\u001b[38;5;241;43m*\u001b[39;49m\u001b[43margs\u001b[49m\u001b[43m,\u001b[49m\u001b[43m \u001b[49m\u001b[38;5;241;43m*\u001b[39;49m\u001b[38;5;241;43m*\u001b[39;49m\u001b[43mkwargs\u001b[49m\u001b[43m)\u001b[49m\n",
      "File \u001b[1;32mc:\\Users\\calen\\AppData\\Local\\Programs\\Python\\Python312\\Lib\\site-packages\\plotly\\io\\_renderers.py:394\u001b[0m, in \u001b[0;36mshow\u001b[1;34m(fig, renderer, validate, **kwargs)\u001b[0m\n\u001b[0;32m    389\u001b[0m         \u001b[38;5;28;01mraise\u001b[39;00m \u001b[38;5;167;01mValueError\u001b[39;00m(\n\u001b[0;32m    390\u001b[0m             \u001b[38;5;124m\"\u001b[39m\u001b[38;5;124mMime type rendering requires ipython but it is not installed\u001b[39m\u001b[38;5;124m\"\u001b[39m\n\u001b[0;32m    391\u001b[0m         )\n\u001b[0;32m    393\u001b[0m     \u001b[38;5;28;01mif\u001b[39;00m \u001b[38;5;129;01mnot\u001b[39;00m nbformat \u001b[38;5;129;01mor\u001b[39;00m Version(nbformat\u001b[38;5;241m.\u001b[39m__version__) \u001b[38;5;241m<\u001b[39m Version(\u001b[38;5;124m\"\u001b[39m\u001b[38;5;124m4.2.0\u001b[39m\u001b[38;5;124m\"\u001b[39m):\n\u001b[1;32m--> 394\u001b[0m         \u001b[38;5;28;01mraise\u001b[39;00m \u001b[38;5;167;01mValueError\u001b[39;00m(\n\u001b[0;32m    395\u001b[0m             \u001b[38;5;124m\"\u001b[39m\u001b[38;5;124mMime type rendering requires nbformat>=4.2.0 but it is not installed\u001b[39m\u001b[38;5;124m\"\u001b[39m\n\u001b[0;32m    396\u001b[0m         )\n\u001b[0;32m    398\u001b[0m     ipython_display\u001b[38;5;241m.\u001b[39mdisplay(bundle, raw\u001b[38;5;241m=\u001b[39m\u001b[38;5;28;01mTrue\u001b[39;00m)\n\u001b[0;32m    400\u001b[0m \u001b[38;5;66;03m# external renderers\u001b[39;00m\n",
      "\u001b[1;31mValueError\u001b[0m: Mime type rendering requires nbformat>=4.2.0 but it is not installed"
     ]
    }
   ],
   "source": [
    "import plotly.express as px\n",
    "df = px.data.iris()\n",
    "fig = px.scatter_3d(df, x = 'sepal_length', y='sepal_width', z='petal_width', color= 'species')\n",
    "fig.show()"
   ]
  },
  {
   "cell_type": "markdown",
   "metadata": {},
   "source": [
    "holaa, no me funca el plotly, si le podes hacer andar joa te re agradezco"
   ]
  },
  {
   "cell_type": "markdown",
   "metadata": {},
   "source": [
    "# Parte 4: Reflexión final"
   ]
  },
  {
   "cell_type": "markdown",
   "metadata": {},
   "source": [
    "Al evaluar las bibliotecas de Python para el trabajo matemático, SymPy, NumPy, y SciPy tienen roles diferentes y son poderosas en sus respectivos ámbitos. Sin embargo, la elección de la \"más poderosa\" depende del contexto en el que planeas trabajar. Aquí te doy una visión general y ejemplos prácticos que pueden ayudarte a decidir cuál es la mejor opción según tus necesidades:"
   ]
  },
  {
   "cell_type": "markdown",
   "metadata": {},
   "source": [
    "SymPy es la biblioteca más poderosa para el cálculo simbólico en Python. Te permite realizar operaciones algebraicas, derivación e integración simbólica, simplificación de expresiones, y mucho más.\n",
    "Además de que se asemeja mucho a la forma de resolver que tenemos los ejercicios de forma manual."
   ]
  },
  {
   "cell_type": "code",
   "execution_count": 15,
   "metadata": {
    "trusted": true
   },
   "outputs": [
    {
     "name": "stdout",
     "output_type": "stream",
     "text": [
      "Derivada de f: -sin(x) + cos(x)\n",
      "Soluciones de f(x) = 0:\n"
     ]
    },
    {
     "data": {
      "text/plain": [
       "[-pi/4]"
      ]
     },
     "execution_count": 15,
     "metadata": {},
     "output_type": "execute_result"
    }
   ],
   "source": [
    "import sympy as sp\n",
    "\n",
    "# Definir la variable simbólica\n",
    "x = sp.symbols('x')\n",
    "\n",
    "# Definir una función\n",
    "f = sp.sin(x) + sp.cos(x)\n",
    "\n",
    "# Derivada de la función\n",
    "f_derivative = sp.diff(f, x)\n",
    "print(\"Derivada de f:\", f_derivative)\n",
    "\n",
    "# Resolver la ecuación f(x) = 0\n",
    "solutions = sp.solve(f, x)\n",
    "print(\"Soluciones de f(x) = 0:\")\n",
    "solutions\n"
   ]
  },
  {
   "cell_type": "code",
   "execution_count": 16,
   "metadata": {
    "trusted": true
   },
   "outputs": [
    {
     "name": "stdout",
     "output_type": "stream",
     "text": [
      "Derivada: exp(x) + cos(x)\n",
      "Integral: exp(x) - cos(x)\n"
     ]
    }
   ],
   "source": [
    "import sympy as sp\n",
    "\n",
    "x = sp.symbols('x')\n",
    "f = sp.sin(x) + sp.exp(x)\n",
    "\n",
    "# Derivada simbólica\n",
    "f_derivative = sp.diff(f, x)\n",
    "\n",
    "# Integral simbólica\n",
    "f_integral = sp.integrate(f, x)\n",
    "\n",
    "print(\"Derivada:\", f_derivative)\n",
    "print(\"Integral:\", f_integral)\n"
   ]
  },
  {
   "cell_type": "markdown",
   "metadata": {},
   "source": [
    "Podemos simplificar expresiones matemáticas complejas, expandir polinomios y realizar factorización."
   ]
  },
  {
   "cell_type": "code",
   "execution_count": 17,
   "metadata": {
    "trusted": true
   },
   "outputs": [
    {
     "name": "stdout",
     "output_type": "stream",
     "text": [
      "Expresión simplificada: (x + 3)*(x**2 + 2*x + 1)\n",
      "Expresión expandida: x**3 + 5*x**2 + 7*x + 3\n"
     ]
    }
   ],
   "source": [
    "expr = (x**2 + 2*x + 1) * (x + 3)\n",
    "simplified_expr = sp.simplify(expr)\n",
    "expanded_expr = sp.expand(expr)\n",
    "\n",
    "print(\"Expresión simplificada:\", simplified_expr)\n",
    "print(\"Expresión expandida:\", expanded_expr)\n"
   ]
  },
  {
   "cell_type": "markdown",
   "metadata": {},
   "source": [
    "Además del uso de las  funciones de transformada de Laplace y la inversa nos sirven para la resolución de ejercicios. "
   ]
  },
  {
   "cell_type": "code",
   "execution_count": 19,
   "metadata": {
    "trusted": true
   },
   "outputs": [
    {
     "name": "stdout",
     "output_type": "stream",
     "text": [
      "Transformada de Laplace de f(t) = e^(-2t): 1/(s + 2)\n"
     ]
    }
   ],
   "source": [
    "import sympy as sp\n",
    "\n",
    "# Definir la variable simbólica\n",
    "t = sp.symbols('t')\n",
    "s = sp.symbols('s')\n",
    "\n",
    "# Definir la función f(t)\n",
    "f_t = sp.exp(-2 * t)\n",
    "\n",
    "# Calcular la transformada de Laplace\n",
    "F_s = sp.laplace_transform(f_t, t, s)\n",
    "\n",
    "print(\"Transformada de Laplace de f(t) = e^(-2t):\", F_s[0])\n",
    "\n"
   ]
  },
  {
   "cell_type": "code",
   "execution_count": 20,
   "metadata": {
    "trusted": true
   },
   "outputs": [
    {
     "name": "stdout",
     "output_type": "stream",
     "text": [
      "Transformada de Laplace de f(t) = t^2 * e^(3t): 2/(s - 3)**3\n"
     ]
    }
   ],
   "source": [
    "# Definir la función f(t)\n",
    "f_t = t**2 * sp.exp(3 * t)\n",
    "\n",
    "# Calcular la transformada de Laplace\n",
    "F_s = sp.laplace_transform(f_t, t, s)\n",
    "\n",
    "print(\"Transformada de Laplace de f(t) = t^2 * e^(3t):\", F_s[0])\n"
   ]
  },
  {
   "cell_type": "code",
   "execution_count": 21,
   "metadata": {
    "trusted": true
   },
   "outputs": [
    {
     "name": "stdout",
     "output_type": "stream",
     "text": [
      "Transformada de Laplace de la ecuación diferencial: 1/(s**2 + 3*s + 2)\n"
     ]
    }
   ],
   "source": [
    "# Definir las variables simbólicas\n",
    "y = sp.Function('y')\n",
    "t = sp.symbols('t')\n",
    "s = sp.symbols('s')\n",
    "\n",
    "# Definir la ecuación diferencial\n",
    "# y'' + 3y' + 2y = 0\n",
    "equation = sp.Eq(y(t).diff(t, 2) + 3 * y(t).diff(t) + 2 * y(t), 0)\n",
    "\n",
    "# Aplicar la transformada de Laplace\n",
    "Y_s = sp.laplace_transform(y(t), t, s)\n",
    "\n",
    "# Reemplazar las derivadas utilizando la propiedad de la transformada de Laplace\n",
    "laplace_equation = Y_s[0] * s**2 + 3 * Y_s[0] * s + 2 * Y_s[0] - 1  # Incorporando condiciones iniciales\n",
    "\n",
    "# Resolver para Y(s)\n",
    "Y_s_solution = sp.solve(laplace_equation, Y_s[0])[0]\n",
    "\n",
    "print(\"Transformada de Laplace de la ecuación diferencial:\", Y_s_solution)\n"
   ]
  },
  {
   "cell_type": "code",
   "execution_count": 22,
   "metadata": {
    "trusted": true
   },
   "outputs": [
    {
     "name": "stdout",
     "output_type": "stream",
     "text": [
      "Transformada inversa de Laplace de F(s) = 1/(s^2 + 4): sin(2*t)*Heaviside(t)/2\n"
     ]
    }
   ],
   "source": [
    "# Definir la función F(s)\n",
    "F_s = 1 / (s**2 + 4)\n",
    "\n",
    "# Calcular la transformada inversa de Laplace\n",
    "f_t = sp.inverse_laplace_transform(F_s, s, t)\n",
    "\n",
    "print(\"Transformada inversa de Laplace de F(s) = 1/(s^2 + 4):\", f_t)\n"
   ]
  }
 ],
 "metadata": {
  "kernelspec": {
   "display_name": "Python 3",
   "language": "python",
   "name": "python3"
  },
  "language_info": {
   "codemirror_mode": {
    "name": "ipython",
    "version": 3
   },
   "file_extension": ".py",
   "mimetype": "text/x-python",
   "name": "python",
   "nbconvert_exporter": "python",
   "pygments_lexer": "ipython3",
   "version": "3.12.0"
  }
 },
 "nbformat": 4,
 "nbformat_minor": 4
}
