{
 "cells": [
  {
   "cell_type": "code",
   "execution_count": 68,
   "metadata": {},
   "outputs": [],
   "source": [
    "import sympy \n",
    "import numpy as np\n",
    "import matplotlib.pyplot as plt\n",
    "x = sympy.symbols(\"x\")"
   ]
  },
  {
   "cell_type": "code",
   "execution_count": 69,
   "metadata": {},
   "outputs": [],
   "source": [
    "def trapecios(fun,paso,a,b):\n",
    "    tabla = []\n",
    "    A = 0\n",
    "    for i in numpy.arange(a,b+paso,paso):\n",
    "        tabla.append([int(i),fun.subs(x,i)])\n",
    "    print (tabla)\n",
    "    for i in range(1,len(tabla)-1):\n",
    "        A += tabla[i][1]\n",
    "    A *= 2\n",
    "    A = A + tabla[0][1] + tabla[-1][1]\n",
    "    A = A * (paso/2)\n",
    "    return A"
   ]
  },
  {
   "cell_type": "code",
   "execution_count": 70,
   "metadata": {},
   "outputs": [],
   "source": [
    "def simpson13(fun,paso,a,b):\n",
    "    if (b-a)/paso % 2 != 0: \n",
    "        return \"Error, el numero de intervalos debe ser par\"\n",
    "    tabla = []\n",
    "    E =0\n",
    "    I=0\n",
    "    P=0\n",
    "    A=0\n",
    "    for i in np.arange(a,b+paso,paso):\n",
    "        tabla.append([int(i),fun.subs(x,i)])\n",
    "    E= tabla[0][1] + tabla[-1][1]\n",
    "    for i in range(1,len(tabla)-1):\n",
    "        if (i % 2 == 0):\n",
    "            P += tabla[i][1]\n",
    "        else:\n",
    "            I += tabla[i][1]\n",
    "    A = (paso/3)*(E+4*I+2*P)\n",
    "    return A"
   ]
  },
  {
   "cell_type": "code",
   "execution_count": 71,
   "metadata": {},
   "outputs": [],
   "source": [
    "def simpson38(fun,a, b):\n",
    "    tabla = []\n",
    "    paso = (b - a) / 3\n",
    "    A = 0\n",
    "    x_values = np.linspace(a, b, 4)\n",
    "    \n",
    "    for i in range(4):\n",
    "        tabla.append([x_values[i], fun.subs(x, x_values[i])])\n",
    "    \n",
    "    A = (3/8) * paso * (tabla[0][1] + 3 * tabla[1][1] + 3 * tabla[2][1] + tabla[3][1])\n",
    "    \n",
    "    return A\n",
    "   "
   ]
  },
  {
   "cell_type": "code",
   "execution_count": 72,
   "metadata": {},
   "outputs": [
    {
     "data": {
      "text/latex": [
       "$\\displaystyle 0.333333333333333$"
      ],
      "text/plain": [
       "0.333333333333333"
      ]
     },
     "metadata": {},
     "output_type": "display_data"
    },
    {
     "data": {
      "text/latex": [
       "$\\displaystyle \\frac{1}{3}$"
      ],
      "text/plain": [
       "1/3"
      ]
     },
     "metadata": {},
     "output_type": "display_data"
    }
   ],
   "source": [
    "\n",
    "funcion = x**2\n",
    "res = simpson13(funcion,0.1,0,1)\n",
    "integral = sympy.integrate(funcion, x)\n",
    "\n",
    "integral = integral.subs(x,1)-integral.subs(x,0)\n",
    "display(res,integral)"
   ]
  },
  {
   "cell_type": "code",
   "execution_count": 73,
   "metadata": {},
   "outputs": [
    {
     "data": {
      "text/latex": [
       "$\\displaystyle 21.0$"
      ],
      "text/plain": [
       "21.0000000000000"
      ]
     },
     "metadata": {},
     "output_type": "display_data"
    },
    {
     "data": {
      "text/latex": [
       "$\\displaystyle 21$"
      ],
      "text/plain": [
       "21"
      ]
     },
     "metadata": {},
     "output_type": "display_data"
    }
   ],
   "source": [
    "\n",
    "funcion = x**2\n",
    "res = simpson38(funcion,1,4)\n",
    "integral = sympy.integrate(funcion, x)\n",
    "\n",
    "integral = integral.subs(x,4)-integral.subs(x,1)\n",
    "display(res,integral)"
   ]
  }
 ],
 "metadata": {
  "kernelspec": {
   "display_name": "Python 3",
   "language": "python",
   "name": "python3"
  },
  "language_info": {
   "codemirror_mode": {
    "name": "ipython",
    "version": 3
   },
   "file_extension": ".py",
   "mimetype": "text/x-python",
   "name": "python",
   "nbconvert_exporter": "python",
   "pygments_lexer": "ipython3",
   "version": "3.10.12"
  }
 },
 "nbformat": 4,
 "nbformat_minor": 2
}
