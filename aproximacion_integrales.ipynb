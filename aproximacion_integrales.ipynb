{
 "cells": [
  {
   "cell_type": "code",
   "execution_count": 301,
   "metadata": {},
   "outputs": [],
   "source": [
    "import sympy \n",
    "import numpy as np\n",
    "import matplotlib.pyplot as plt\n",
    "x = sympy.symbols(\"x\")"
   ]
  },
  {
   "cell_type": "markdown",
   "metadata": {},
   "source": [
    "## Aclaraciones\n",
    "En los 3 metodos se utilizará una lista que contiene, en cada espacio, un arreglo de 2 elementos: El primero es x y el segundo f(x)=y.\n",
    "Para llenar esta lista utilizaremos **numpy**, la cual nos provee de **arange**, el cual es una alternativa al \"in range\" nativo de python, pero que permite la flexibilidad de realizar pasos no enteros.  \n",
    "**numpy** tambien nos provee una herramienta util para simpson 38, que es \"linespace\", la cual genera un numero especifico de valores equidistantes dentro de un intervalo."
   ]
  },
  {
   "cell_type": "code",
   "execution_count": null,
   "metadata": {},
   "outputs": [],
   "source": [
    "def trapecios(fun,paso,a,b):\n",
    "    tabla = []\n",
    "    A = 0\n",
    "    for i in np.arange(a,b+paso,paso):\n",
    "        tabla.append([int(i),fun.subs(x,i)])\n",
    "    for i in range(1,len(tabla)-1): #sumatoria de los elementos medios de la tabla\n",
    "        A += tabla[i][1]\n",
    "    A *= 2  \n",
    "    A = A + tabla[0][1] + tabla[-1][1] #Sumo elementos extremos\n",
    "    A = A * (paso/2)    #multiplico por h/2 \n",
    "    return A    #devuelvo la aproximacion de la integral"
   ]
  },
  {
   "cell_type": "code",
   "execution_count": null,
   "metadata": {},
   "outputs": [],
   "source": [
    "def simpson13(fun,paso,a,b):\n",
    "    if ((b-a)/paso) % 2 != 0: #para simpson13 con segmentos multiples, n debe ser par\n",
    "        return \"Error, el numero de intervalos debe ser par para simposon 1/3\"\n",
    "    tabla = []\n",
    "    #defino las variables a utilizar\n",
    "    E =0\n",
    "    I=0\n",
    "    P=0\n",
    "    A=0\n",
    "    for i in np.arange(a,b+paso,paso):\n",
    "        tabla.append([int(i),fun.subs(x,i)])\n",
    "    E= tabla[0][1] + tabla[-1][1]   #sumo los elementos extremos\n",
    "    for i in range(1,len(tabla)-1):\n",
    "        if (i % 2 == 0):\n",
    "            P += tabla[i][1]    #sumo elementos pares\n",
    "        else:\n",
    "            I += tabla[i][1]    #sumo elementos impares\n",
    "    A = (paso/3)*(E+4*I+2*P)    #aplico la formula de simpson 1/3\n",
    "    return A    #devuelvo la aproximacion de la integral"
   ]
  },
  {
   "cell_type": "code",
   "execution_count": null,
   "metadata": {},
   "outputs": [],
   "source": [
    "def simpson38(fun,paso,a, b):\n",
    "    tabla = []\n",
    "    paso = (b - a) / 3  #Redefino h\n",
    "    A = 0\n",
    "    x_values = np.linspace(a, b, 4)\n",
    "    \n",
    "    #Lleno la tabla con los valores de la funcion evaluados en los puntos dados por el linespace\n",
    "    for i in range(4):\n",
    "        tabla.append([x_values[i], fun.subs(x, x_values[i])])\n",
    "    \n",
    "    #Aplico la formula de simpson 3/8\n",
    "    A = (3/8) * paso * (tabla[0][1] + 3 * tabla[1][1] + 3 * tabla[2][1] + tabla[3][1])\n",
    "    #Devuelvo la aproximacion de la integral\n",
    "    return A\n",
    "   "
   ]
  },
  {
   "cell_type": "code",
   "execution_count": null,
   "metadata": {},
   "outputs": [],
   "source": [
    "#función para calcular errores de una integral\n",
    "def errores(a,b):\n",
    "    errores = []\n",
    "    errores.append(abs(a-b))\n",
    "    errores.append(abs((a-b)/b))\n",
    "    errores.append(abs((a-b)/b)*100)\n",
    "\n",
    "    return errores"
   ]
  },
  {
   "cell_type": "code",
   "execution_count": null,
   "metadata": {},
   "outputs": [],
   "source": [
    "#funcion para aproximar una integral\n",
    "#recibe el metodo a utilizar, la funcion a integrar, los limites de integracion, el paso y el valor real de la integral\n",
    "#si no se conoce el valor real de la integral, se puede dejar en None\n",
    "def aproximar(metodo,fun, a, b, paso, integrable = None):\n",
    "    aproximacion = metodo(fun, paso, a, b)\n",
    "    if type(aproximacion) == str: return aproximacion\n",
    "    if (integrable == None):\n",
    "        integral = sympy.integrate(fun, x)\n",
    "        integral = integral.subs(x, b) - integral.subs(x, a)\n",
    "    else:\n",
    "        integral = integrable\n",
    "    error = errores(aproximacion, integral)\n",
    "    #Muestro los errores\n",
    "    print (f\"Aproximacion mediante {metodo.__name__}: \", aproximacion)\n",
    "    print (f\"Valor real de la integral: \", integral)\n",
    "    print (f\"Errores: \")\n",
    "    print (f\"Error absoluto: \", round(error[0],4))\n",
    "    print (f\"Error relativo: \", round(error[1],4))\n",
    "    print (f\"Error porcentual: \", round(error[2],4))"
   ]
  },
  {
   "cell_type": "code",
   "execution_count": null,
   "metadata": {},
   "outputs": [],
   "source": [
    "#definir Funciones y varibales\n",
    "#si el programa tarda mucho es porque la funcion es muy compleja\n",
    "#En ese caso definir \"valorReal\" como el valor de la integral de la funcion en [a,b]\n",
    "\n",
    "#La funcion dada por la profesora tarda mucho en calcularse\n",
    "#Por lo tanto se obtuvo el valor de una app que calcula integrales\n",
    "funcion = (x**3)/(1+x**0.5)\n",
    "a = 1\n",
    "b = 2\n",
    "paso = 0.25\n",
    "valorReal = 1.647107951640862"
   ]
  },
  {
   "cell_type": "code",
   "execution_count": 308,
   "metadata": {},
   "outputs": [
    {
     "name": "stdout",
     "output_type": "stream",
     "text": [
      "Aproximacion mediante trapecios:  1.66330957257967\n",
      "Valor real de la integral:  1.647107951640862\n",
      "Errores: \n",
      "Error absoluto:  0.0162\n",
      "Error relativo:  0.0098\n",
      "Error porcentual:  0.9836\n"
     ]
    }
   ],
   "source": [
    "#metodo trapecios\n",
    "aproximar(trapecios,funcion,a,b,paso,valorReal)"
   ]
  },
  {
   "cell_type": "code",
   "execution_count": 309,
   "metadata": {},
   "outputs": [
    {
     "name": "stdout",
     "output_type": "stream",
     "text": [
      "Aproximacion mediante simpson13:  1.64709907487529\n",
      "Valor real de la integral:  1.647107951640862\n",
      "Errores: \n",
      "Error absoluto:  0.0\n",
      "Error relativo:  0.0\n",
      "Error porcentual:  0.0005\n"
     ]
    }
   ],
   "source": [
    "#metodo simpson 1/3\n",
    "aproximar(simpson13,funcion,a,b,paso,valorReal)"
   ]
  },
  {
   "cell_type": "code",
   "execution_count": 310,
   "metadata": {},
   "outputs": [
    {
     "name": "stdout",
     "output_type": "stream",
     "text": [
      "Aproximacion mediante simpson38:  1.64704637496726\n",
      "Valor real de la integral:  1.647107951640862\n",
      "Errores: \n",
      "Error absoluto:  0.0001\n",
      "Error relativo:  0.0\n",
      "Error porcentual:  0.0037\n"
     ]
    }
   ],
   "source": [
    "#metodo simpson 3/8\n",
    "aproximar(simpson38,funcion,a,b,paso,valorReal)"
   ]
  }
 ],
 "metadata": {
  "kernelspec": {
   "display_name": "Python 3",
   "language": "python",
   "name": "python3"
  },
  "language_info": {
   "codemirror_mode": {
    "name": "ipython",
    "version": 3
   },
   "file_extension": ".py",
   "mimetype": "text/x-python",
   "name": "python",
   "nbconvert_exporter": "python",
   "pygments_lexer": "ipython3",
   "version": "3.10.12"
  }
 },
 "nbformat": 4,
 "nbformat_minor": 2
}
