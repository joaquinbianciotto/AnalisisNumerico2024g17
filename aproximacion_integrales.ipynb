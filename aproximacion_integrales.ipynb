{
 "cells": [
  {
   "cell_type": "code",
   "execution_count": 204,
   "metadata": {},
   "outputs": [],
   "source": [
    "import sympy \n",
    "import numpy as np\n",
    "import matplotlib.pyplot as plt\n",
    "x = sympy.symbols(\"x\")"
   ]
  },
  {
   "cell_type": "code",
   "execution_count": null,
   "metadata": {},
   "outputs": [],
   "source": [
    "def trapecios(fun,paso,a,b):\n",
    "    tabla = []\n",
    "    A = 0\n",
    "    for i in np.arange(a,b+paso,paso):\n",
    "        tabla.append([int(i),fun.subs(x,i)])\n",
    "    for i in range(1,len(tabla)-1):\n",
    "        A += tabla[i][1]\n",
    "    A *= 2\n",
    "    A = A + tabla[0][1] + tabla[-1][1]\n",
    "    A = A * (paso/2)\n",
    "    return A"
   ]
  },
  {
   "cell_type": "code",
   "execution_count": 206,
   "metadata": {},
   "outputs": [],
   "source": [
    "def simpson13(fun,paso,a,b):\n",
    "    if ((b-a)/paso) % 2 != 0: \n",
    "        return \"Error, el numero de intervalos debe ser par para simposon 1/3\"\n",
    "    tabla = []\n",
    "    E =0\n",
    "    I=0\n",
    "    P=0\n",
    "    A=0\n",
    "    for i in np.arange(a,b+paso,paso):\n",
    "        tabla.append([int(i),fun.subs(x,i)])\n",
    "    E= tabla[0][1] + tabla[-1][1]\n",
    "    for i in range(1,len(tabla)-1):\n",
    "        if (i % 2 == 0):\n",
    "            P += tabla[i][1]\n",
    "        else:\n",
    "            I += tabla[i][1]\n",
    "    A = (paso/3)*(E+4*I+2*P)\n",
    "    return A"
   ]
  },
  {
   "cell_type": "code",
   "execution_count": 207,
   "metadata": {},
   "outputs": [],
   "source": [
    "def simpson38(fun,paso,a, b):\n",
    "    tabla = []\n",
    "    paso = (b - a) / 3\n",
    "    A = 0\n",
    "    x_values = np.linspace(a, b, 4)\n",
    "    \n",
    "    for i in range(4):\n",
    "        tabla.append([x_values[i], fun.subs(x, x_values[i])])\n",
    "    \n",
    "    A = (3/8) * paso * (tabla[0][1] + 3 * tabla[1][1] + 3 * tabla[2][1] + tabla[3][1])\n",
    "    \n",
    "    return A\n",
    "   "
   ]
  },
  {
   "cell_type": "code",
   "execution_count": null,
   "metadata": {},
   "outputs": [],
   "source": [
    "def errores(a,b):\n",
    "    errores = []\n",
    "    errores.append(abs(a-b))\n",
    "    errores.append(abs((a-b)/b))\n",
    "    errores.append(abs((a-b)/b)*100)\n",
    "\n",
    "    return errores"
   ]
  },
  {
   "cell_type": "code",
   "execution_count": 209,
   "metadata": {},
   "outputs": [],
   "source": [
    "def aproximar(metodo,fun, a, b, paso):\n",
    "    aproximacion = metodo(fun, paso, a, b)\n",
    "    if type(aproximacion) == str: return aproximacion\n",
    "    integral = sympy.integrate(fun, x)\n",
    "    integral = integral.subs(x, b) - integral.subs(x, a)\n",
    "    error = errores(aproximacion, integral)\n",
    "    print (f\"Aproximacion mediante {metodo.__name__}: \", aproximacion)\n",
    "    print (f\"Valor real de la integral: \", integral)\n",
    "    print (f\"Errores: \")\n",
    "    print (f\"Error absoluto: \", round(error[0],4))\n",
    "    print (f\"Error relativo: \", round(error[1],4))\n",
    "    print (f\"Error porcentual: \", round(error[2],4))"
   ]
  },
  {
   "cell_type": "code",
   "execution_count": 212,
   "metadata": {},
   "outputs": [
    {
     "name": "stdout",
     "output_type": "stream",
     "text": [
      "[[1, 1.00000000000000], [1, 0.826446280991735], [1, 0.694444444444444], [1, 0.591715976331361], [1, 0.510204081632653], [1, 0.444444444444444], [1, 0.390625000000000], [1, 0.346020761245674], [1, 0.308641975308642], [1, 0.277008310249307], [2, 0.250000000000000], [2, 0.226757369614512], [2, 0.206611570247934], [2, 0.189035916824196], [2, 0.173611111111111], [2, 0.160000000000000], [2, 0.147928994082840], [2, 0.137174211248285], [2, 0.127551020408163], [2, 0.118906064209275], [3, 0.111111111111111]]\n",
      "0.668268308795013 2/3\n",
      "Aproximacion mediante trapecios:  0.668268308795013\n",
      "Valor real de la integral:  2/3\n",
      "Errores: \n",
      "Error absoluto:  0.0016\n",
      "Error relativo:  0.0024\n",
      "Error porcentual:  0.2402\n"
     ]
    }
   ],
   "source": [
    "funcion = 1/(x**2)\n",
    "aproximar(trapecios,funcion, 1, 3, 0.1)"
   ]
  }
 ],
 "metadata": {
  "kernelspec": {
   "display_name": "Python 3",
   "language": "python",
   "name": "python3"
  },
  "language_info": {
   "codemirror_mode": {
    "name": "ipython",
    "version": 3
   },
   "file_extension": ".py",
   "mimetype": "text/x-python",
   "name": "python",
   "nbconvert_exporter": "python",
   "pygments_lexer": "ipython3",
   "version": "3.10.12"
  }
 },
 "nbformat": 4,
 "nbformat_minor": 2
}
