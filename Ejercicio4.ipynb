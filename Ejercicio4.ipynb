{
  "metadata": {
    "kernelspec": {
      "name": "python",
      "display_name": "Python (Pyodide)",
      "language": "python"
    },
    "language_info": {
      "codemirror_mode": {
        "name": "python",
        "version": 3
      },
      "file_extension": ".py",
      "mimetype": "text/x-python",
      "name": "python",
      "nbconvert_exporter": "python",
      "pygments_lexer": "ipython3",
      "version": "3.8"
    }
  },
  "nbformat_minor": 4,
  "nbformat": 4,
  "cells": [
    {
      "cell_type": "code",
      "source": "import numpy as np\nimport sympy as sp",
      "metadata": {
        "trusted": true
      },
      "outputs": [],
      "execution_count": 8
    },
    {
      "cell_type": "code",
      "source": "# Definimos el Simbolo k \nk = sp.Symbol('k')\n\nXp = sp.Matrix([['Xp1(t)'],['Xp2(t)']])\nX = sp.Matrix([['X1(t)'],['X2(t)']])\nA = sp.Matrix([[0,1],[-1,-k]])\n\nprint ('Dado el sistema de ecuaciones\\n')\nprint (Xp,'=',A,'*',X)",
      "metadata": {
        "trusted": true
      },
      "outputs": [
        {
          "name": "stdout",
          "text": "Dado el sistema de ecuaciones\n\nMatrix([[Xp1(t)], [Xp2(t)]]) = Matrix([[0, 1], [-1, -k]]) * Matrix([[X1(t)], [X2(t)]])\n",
          "output_type": "stream"
        }
      ],
      "execution_count": 9
    },
    {
      "cell_type": "code",
      "source": "print('Donde la matriz A es igual a:')\nA",
      "metadata": {
        "trusted": true
      },
      "outputs": [
        {
          "name": "stdout",
          "text": "Donde la matriz A es igual a:\n",
          "output_type": "stream"
        },
        {
          "execution_count": 19,
          "output_type": "execute_result",
          "data": {
            "text/plain": "Matrix([\n[ 0,  1],\n[-1, -k]])",
            "text/latex": "$\\displaystyle \\left[\\begin{matrix}0 & 1\\\\-1 & - k\\end{matrix}\\right]$"
          },
          "metadata": {}
        }
      ],
      "execution_count": 19
    },
    {
      "cell_type": "code",
      "source": "import numpy as np\n\n# Función para calcular los valores propios de la matriz A\ndef calcular_valores_propios(k):\n    # Definimos la matriz A, ahora en numpy\n    A = np.array([[0, 1], [-1, -k]])\n    # Calculamos los valores propios\n    valores_propios = np.linalg.eigvals(A)\n    return valores_propios\n\nprint ('Los valores que le daremos a k serán:\\n')\nprint ('a) K > 2 --> K=3\\n')\nprint ('b) K = 2\\n')\nprint ('c) 0 < K < 2 --> K=1 \\n')\nprint ('d) K=0\\n')\nprint ('e) -2 < K < 0 --> K=-1\\n')\nprint ('f) K = -2\\n')\nprint ('g) K < -2 --> K=-3\\n')\n\n# Valores de k para analizar\nvalores_k = [3, 2, 1, 0, -1, -2, -3]\n\n# Analizar la estabilidad para cada valor de k\nfor k in valores_k:\n    valores_propios = calcular_valores_propios(k)\n    print(f\"Para k = {k}, los valores propios son: {valores_propios}\")\n    #No posee parte Imaginaria\n    if (valores_propios[0].imag == 0):\n        #Valores reales Distintos \n        if (valores_propios[0] !=  valores_propios[1]):\n                if (valores_propios[0] < 0) and (valores_propios[1] < 0):\n                    print ('El nodo es estable\\n')\n                elif (valores_propios[0] > 0) and (valores_propios[1] < 0):\n                    print ('El nodo es inestable\\n')\n                elif (valores_propios[0] < 0) and (valores_propios[1] > 0) or (valores_propios[0] > 0) and (valores_propios[1] < 0):\n                    print ('Es un punto de silla\\n')\n        # Valores Reales Iguales\n        elif (valores_propios.real[0] == valores_propios.real[1]):\n            if (valores_propios[0] < 0):\n                print ('El nodo es estable\\n')\n            else:\n                print ('El nodo es inestable\\n')\n        \n    #Valores Imaginarios\n    else:\n        if (valores_propios.real[0] !=  0 ):\n                if (valores_propios.real[0]<0):\n                    print ('El nodo es estable\\n')\n                else:\n                    print('El nodo es inestable\\n')\n        else:\n            print ('Nodo centro\\n')\n            \n        \n   \n    ",
      "metadata": {
        "trusted": true
      },
      "outputs": [
        {
          "name": "stdout",
          "text": "Los valores que le daremos a k serán:\n\na) K > 2 --> K=3\n\nb) K = 2\n\nc) 0 < K < 2 --> K=1 \n\nd) K=0\n\ne) -2 < K < 0 --> K=-1\n\nf) K = -2\n\ng) K < -2 --> K=-3\n\nPara k = 3, los valores propios son: [-0.38196601 -2.61803399]\nEl nodo es estable\n\nPara k = 2, los valores propios son: [-1. -1.]\nEl nodo es estable\n\nPara k = 1, los valores propios son: [-0.5+0.8660254j -0.5-0.8660254j]\nEl nodo es estable\n\nPara k = 0, los valores propios son: [0.+1.j 0.-1.j]\nNodo centro\n\nPara k = -1, los valores propios son: [0.5+0.8660254j 0.5-0.8660254j]\nEl nodo es inestable\n\nPara k = -2, los valores propios son: [1. 1.]\nEl nodo es inestable\n\nPara k = -3, los valores propios son: [0.38196601 2.61803399]\n",
          "output_type": "stream"
        }
      ],
      "execution_count": 10
    },
    {
      "cell_type": "code",
      "source": "",
      "metadata": {
        "trusted": true
      },
      "outputs": [],
      "execution_count": null
    }
  ]
}